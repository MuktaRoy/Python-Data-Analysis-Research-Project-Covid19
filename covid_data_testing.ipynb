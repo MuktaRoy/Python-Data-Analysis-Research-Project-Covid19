{
  "cells": [
    {
      "cell_type": "code",
      "execution_count": null,
      "metadata": {
        "id": "XbBIGhnqqAFS"
      },
      "outputs": [],
      "source": [
        "\n",
        "from google.colab import drive"
      ]
    },
    {
      "cell_type": "code",
      "execution_count": null,
      "metadata": {
        "id": "ONAlEbIzrjwm"
      },
      "outputs": [],
      "source": [
        "drive.mount('/drive/content')"
      ]
    },
    {
      "cell_type": "code",
      "execution_count": null,
      "metadata": {
        "id": "bANKJogIrqhP"
      },
      "outputs": [],
      "source": [
        "import pandas as pd\n",
        "import numpy as np\n",
        "import matplotlib as mpl\n",
        "import matplotlib.pyplot as plt\n",
        "from datetime import date\n"
      ]
    },
    {
      "cell_type": "code",
      "execution_count": null,
      "metadata": {
        "id": "7oGw7QS5r25Q"
      },
      "outputs": [],
      "source": [
        "data = pd.read_csv('/content/drive/MyDrive/covid_data_collection/owid-covid-data.csv')"
      ]
    },
    {
      "cell_type": "code",
      "execution_count": null,
      "metadata": {
        "id": "fQNEBfcVsP23"
      },
      "outputs": [],
      "source": [
        "data.head()"
      ]
    },
    {
      "cell_type": "code",
      "execution_count": null,
      "metadata": {
        "id": "g1G4A7ipcd9E"
      },
      "outputs": [],
      "source": [
        "#set(data.head())"
      ]
    },
    {
      "cell_type": "markdown",
      "metadata": {
        "id": "v9Q2FQu5l7gf"
      },
      "source": [
        "## data.min()"
      ]
    },
    {
      "cell_type": "code",
      "execution_count": null,
      "metadata": {
        "id": "YMvrjx8jNGdt"
      },
      "outputs": [],
      "source": [
        "data.isnull().sum()"
      ]
    },
    {
      "cell_type": "code",
      "execution_count": null,
      "metadata": {
        "id": "QRf2Y2G5njX7"
      },
      "outputs": [],
      "source": [
        "asia_country=data[(data['continent']=='Asia') & (data['location'])]\n"
      ]
    },
    {
      "cell_type": "code",
      "execution_count": null,
      "metadata": {
        "id": "_HU3g_PriMyF"
      },
      "outputs": [],
      "source": [
        "\n",
        "print(data.dtypes)"
      ]
    },
    {
      "cell_type": "code",
      "execution_count": null,
      "metadata": {
        "id": "ZoAXJHv9sa4a"
      },
      "outputs": [],
      "source": [
        "data.shape"
      ]
    },
    {
      "cell_type": "code",
      "execution_count": null,
      "metadata": {
        "id": "HIrN5y_SsjvL"
      },
      "outputs": [],
      "source": [
        "new_data=data[['location','date','total_cases','new_cases','new_deaths','total_deaths']]"
      ]
    },
    {
      "cell_type": "code",
      "execution_count": null,
      "metadata": {
        "id": "wvwn4_nAuhAJ"
      },
      "outputs": [],
      "source": [
        "#new_data.shape"
      ]
    },
    {
      "cell_type": "code",
      "execution_count": null,
      "metadata": {
        "id": "kvhws4wqUyZX"
      },
      "outputs": [],
      "source": [
        "#set(new_data['date'])"
      ]
    },
    {
      "cell_type": "code",
      "execution_count": null,
      "metadata": {
        "id": "vsQLS7GzATwF"
      },
      "outputs": [],
      "source": [
        "# Highly populated coutries"
      ]
    },
    {
      "cell_type": "markdown",
      "metadata": {
        "id": "_J0pDsqD_EJ2"
      },
      "source": [
        "To see the unique location"
      ]
    },
    {
      "cell_type": "code",
      "execution_count": null,
      "metadata": {
        "id": "uwMK2ENnUH7G"
      },
      "outputs": [],
      "source": [
        "update_dataset= new_data [(new_data['location'] == \"Bangladesh\") | (new_data['location'] == \"Vietnam\") | (new_data['location'] == \"Philippines\") | (new_data['location'] == \"Mexico\") |(new_data['location'] == \"Indonesia\")]\n",
        "update_dataset\n"
      ]
    },
    {
      "cell_type": "code",
      "execution_count": null,
      "metadata": {
        "id": "1rZPTcluL8bx"
      },
      "outputs": [],
      "source": [
        "update_dataset.shape"
      ]
    },
    {
      "cell_type": "code",
      "execution_count": null,
      "metadata": {
        "id": "xVz6qiUfvWHZ"
      },
      "outputs": [],
      "source": [
        "update_dataset.isnull().sum()\n"
      ]
    },
    {
      "cell_type": "code",
      "execution_count": null,
      "metadata": {
        "id": "hJqMTmmqV7oT"
      },
      "outputs": [],
      "source": [
        "#set(update_dataset['total_cases'])\n"
      ]
    },
    {
      "cell_type": "code",
      "execution_count": null,
      "metadata": {
        "id": "c46UUiWFTcg4"
      },
      "outputs": [],
      "source": [
        "\n",
        "#update_datase=update_dataset.fillna(value=update_dataset['total_cases'].mean())\n",
        "#update_dataset=update_dataset.fillna(update_dataset.mean())\n",
        "#interpolate data linierly\n",
        "update_dataset['total_cases']=update_dataset['total_cases'].interpolate(method='linear')\n",
        "update_dataset['new_cases']=update_dataset['new_cases'].interpolate(method='linear')\n",
        "update_dataset['new_deaths']=update_dataset['new_deaths'].interpolate(method='linear')\n",
        "update_dataset['total_deaths']=update_dataset['total_deaths'].interpolate(method='linear')\n",
        "update_dataset"
      ]
    },
    {
      "cell_type": "code",
      "execution_count": null,
      "metadata": {
        "id": "yLC2lLUSLvb9"
      },
      "outputs": [],
      "source": [
        "\n",
        "update_dataset.isnull().sum()\n"
      ]
    },
    {
      "cell_type": "code",
      "execution_count": null,
      "metadata": {
        "id": "hsjW8uVctd09"
      },
      "outputs": [],
      "source": [
        "update_dataset=update_dataset.fillna(update_dataset.mean())"
      ]
    },
    {
      "cell_type": "code",
      "execution_count": null,
      "metadata": {
        "id": "EqfrTe3juLo9"
      },
      "outputs": [],
      "source": [
        "update_dataset"
      ]
    },
    {
      "cell_type": "code",
      "execution_count": null,
      "metadata": {
        "id": "cjUgBpTqWQu0"
      },
      "outputs": [],
      "source": [
        "#set(update_dataset['total_cases'])"
      ]
    },
    {
      "cell_type": "code",
      "execution_count": null,
      "metadata": {
        "id": "KaG-mfZPKi3s"
      },
      "outputs": [],
      "source": [
        "update_dataset.isnull().sum()"
      ]
    },
    {
      "cell_type": "code",
      "execution_count": null,
      "metadata": {
        "id": "oJdfDEsCvpvJ"
      },
      "outputs": [],
      "source": [
        "\n",
        "update_dataset.shape"
      ]
    },
    {
      "cell_type": "code",
      "execution_count": null,
      "metadata": {
        "id": "tZI6IpYdQS7B"
      },
      "outputs": [],
      "source": [
        "#bagladesh temparature dataset"
      ]
    },
    {
      "cell_type": "code",
      "execution_count": null,
      "metadata": {
        "id": "35JuCiwJ6vT6"
      },
      "outputs": [],
      "source": [
        "Bangladesh_temp = pd.read_csv('/content/drive/MyDrive/covid_data_collection/Bangladesh_temp.csv')"
      ]
    },
    {
      "cell_type": "code",
      "execution_count": null,
      "metadata": {
        "id": "ffeBRJuiPjEk"
      },
      "outputs": [],
      "source": [
        "Bangladesh_temp.head()\n"
      ]
    },
    {
      "cell_type": "code",
      "execution_count": null,
      "metadata": {
        "id": "PilCUmP4aNlH"
      },
      "outputs": [],
      "source": [
        "print(Bangladesh_temp.dtypes)"
      ]
    },
    {
      "cell_type": "code",
      "execution_count": null,
      "metadata": {
        "id": "kUbBLrVNkX5H"
      },
      "outputs": [],
      "source": [
        "Bangladesh_temp['MO']=Bangladesh_temp.MO.astype(str)\n",
        "Bangladesh_temp['DY']=Bangladesh_temp.DY.astype(str)\n",
        "Bangladesh_temp['MO'].replace(['1','2','3','4','5','6','7','8','9'],['01','02','03','04','05','06','07','08','09'],inplace=True)\n",
        "Bangladesh_temp['DY'].replace(['1','2','3','4','5','6','7','8','9'],['01','02','03','04','05','06','07','08','09'],inplace=True)\n"
      ]
    },
    {
      "cell_type": "code",
      "execution_count": null,
      "metadata": {
        "id": "y1xy8yPZaWWr"
      },
      "outputs": [],
      "source": [
        "set(Bangladesh_temp['MO'])\n"
      ]
    },
    {
      "cell_type": "code",
      "execution_count": null,
      "metadata": {
        "id": "h1QsRLZUS4AF"
      },
      "outputs": [],
      "source": [
        "#tt = list(Bangladesh_temp.columns)\n",
        "#tt"
      ]
    },
    {
      "cell_type": "code",
      "execution_count": null,
      "metadata": {
        "id": "sWJZilBSZ4Ym"
      },
      "outputs": [],
      "source": [
        "\n",
        "Bangladesh_temp['date'] = Bangladesh_temp['YEAR'].astype(str) + '-' + Bangladesh_temp['MO'].astype(str) + '-' + Bangladesh_temp['DY'].astype(str)\n",
        "Bangladesh_temp"
      ]
    },
    {
      "cell_type": "code",
      "execution_count": null,
      "metadata": {
        "id": "0XTVlXj5UTyU"
      },
      "outputs": [],
      "source": [
        "#tt[0],tt[2] = tt[2],tt[0]\n",
        "#tt"
      ]
    },
    {
      "cell_type": "code",
      "execution_count": null,
      "metadata": {
        "id": "ujRuMz6TVA-y"
      },
      "outputs": [],
      "source": [
        "\n",
        "#Bangladesh_temp = Bangladesh_temp[tt]\n",
        "\n",
        "#Bangladesh_temp"
      ]
    },
    {
      "cell_type": "code",
      "execution_count": null,
      "metadata": {
        "id": "wa6ju0nHVgRl"
      },
      "outputs": [],
      "source": [
        "#Bangladesh_temp[date] =pd.to_datetime(Bangladesh_temp[['DY','MO','YEAR']])\n",
        "#Bangladesh_temp"
      ]
    },
    {
      "cell_type": "code",
      "execution_count": null,
      "metadata": {
        "id": "xXXVI2C7i0kM"
      },
      "outputs": [],
      "source": [
        "Bangladesh_temp"
      ]
    },
    {
      "cell_type": "code",
      "execution_count": null,
      "metadata": {
        "id": "HuoawswRjQlb"
      },
      "outputs": [],
      "source": []
    },
    {
      "cell_type": "code",
      "execution_count": null,
      "metadata": {
        "id": "FkWSxM6MjerK"
      },
      "outputs": [],
      "source": [
        "Bangladesh_temp=Bangladesh_temp[['date','T2M']]\n",
        "Bangladesh_temp"
      ]
    },
    {
      "cell_type": "code",
      "execution_count": null,
      "metadata": {
        "id": "_WLiJ7kFkqrm"
      },
      "outputs": [],
      "source": [
        "Bangladesh_temp['location']='Bangladesh'\n",
        "Bangladesh_temp"
      ]
    },
    {
      "cell_type": "code",
      "execution_count": null,
      "metadata": {
        "id": "0dkBOmUBrQCX"
      },
      "outputs": [],
      "source": [
        "\n",
        "#set(Bangladesh_temp['date'])"
      ]
    },
    {
      "cell_type": "code",
      "execution_count": null,
      "metadata": {
        "id": "DYztD0ykkhr-"
      },
      "outputs": [],
      "source": [
        "\n",
        "#canada datetime temparature"
      ]
    },
    {
      "cell_type": "code",
      "execution_count": null,
      "metadata": {
        "id": "f_f4AuA-70OG"
      },
      "outputs": [],
      "source": [
        "Indonesia_temp = pd.read_csv('/content/drive/MyDrive/covid_data_collection/indo_temp.csv')\n",
        "Indonesia_temp"
      ]
    },
    {
      "cell_type": "code",
      "execution_count": null,
      "metadata": {
        "id": "AaAwJg3fpkEe"
      },
      "outputs": [],
      "source": [
        "Indonesia_temp['MO']=Indonesia_temp.MO.astype(str)\n",
        "Indonesia_temp['DY']=Indonesia_temp.DY.astype(str)\n",
        "Indonesia_temp['MO'].replace(['1','2','3','4','5','6','7','8','9'],['01','02','03','04','05','06','07','08','09'],inplace=True)\n",
        "Indonesia_temp['DY'].replace(['1','2','3','4','5','6','7','8','9'],['01','02','03','04','05','06','07','08','09'],inplace=True)\n"
      ]
    },
    {
      "cell_type": "code",
      "execution_count": null,
      "metadata": {
        "id": "BfQ3s_QH8_JC"
      },
      "outputs": [],
      "source": [
        "\n",
        "Indonesia_temp['date'] = Indonesia_temp['YEAR'].astype(str) + '-' + Indonesia_temp['MO'].astype(str) + '-' + Indonesia_temp['DY'].astype(str)\n",
        "Indonesia_temp"
      ]
    },
    {
      "cell_type": "code",
      "execution_count": null,
      "metadata": {
        "id": "K4bh7VuD-fIJ"
      },
      "outputs": [],
      "source": [
        "Indonesia_temp=Indonesia_temp[['date','T2M']]\n",
        "Indonesia_temp"
      ]
    },
    {
      "cell_type": "code",
      "execution_count": null,
      "metadata": {
        "id": "CWFj00qylG0p"
      },
      "outputs": [],
      "source": [
        "Indonesia_temp['location']='Indonesia'\n",
        "Indonesia_temp"
      ]
    },
    {
      "cell_type": "code",
      "execution_count": null,
      "metadata": {
        "id": "9QaPOnIB-tGQ"
      },
      "outputs": [],
      "source": [
        "\n",
        "#France date and temparatrure"
      ]
    },
    {
      "cell_type": "code",
      "execution_count": null,
      "metadata": {
        "id": "TV6hmnxI-2bE"
      },
      "outputs": [],
      "source": [
        "Vietnam_temp = pd.read_csv('/content/drive/MyDrive/covid_data_collection/vietnam_temp.csv')\n",
        "#Vietnam_temp\n"
      ]
    },
    {
      "cell_type": "code",
      "execution_count": null,
      "metadata": {
        "id": "1WN1gtvzp2_U"
      },
      "outputs": [],
      "source": [
        "Vietnam_temp['MO']=Vietnam_temp.MO.astype(str)\n",
        "Vietnam_temp['DY']=Vietnam_temp.DY.astype(str)\n",
        "Vietnam_temp['MO'].replace(['1','2','3','4','5','6','7','8','9'],['01','02','03','04','05','06','07','08','09'],inplace=True)\n",
        "Vietnam_temp['DY'].replace(['1','2','3','4','5','6','7','8','9'],['01','02','03','04','05','06','07','08','09'],inplace=True)"
      ]
    },
    {
      "cell_type": "code",
      "execution_count": null,
      "metadata": {
        "id": "W4v0clyj_AJL"
      },
      "outputs": [],
      "source": [
        "Vietnam_temp['date'] = Vietnam_temp['YEAR'].astype(str) + '-' + Vietnam_temp['MO'].astype(str) + '-' + Vietnam_temp['DY'].astype(str)\n",
        "#Vietnam_temp"
      ]
    },
    {
      "cell_type": "code",
      "execution_count": null,
      "metadata": {
        "id": "9NaW_v_p_DpM"
      },
      "outputs": [],
      "source": [
        "Vietnam_temp=Vietnam_temp[['date','T2M']]\n",
        "#Vietnam_temp\n"
      ]
    },
    {
      "cell_type": "code",
      "execution_count": null,
      "metadata": {
        "id": "Xv3gxkwxlROA"
      },
      "outputs": [],
      "source": [
        "Vietnam_temp['location']='Vietnam'\n",
        "Vietnam_temp"
      ]
    },
    {
      "cell_type": "code",
      "execution_count": null,
      "metadata": {
        "id": "9V7ENcfgRWD_"
      },
      "outputs": [],
      "source": [
        "#mexico dataset and temparature"
      ]
    },
    {
      "cell_type": "code",
      "execution_count": null,
      "metadata": {
        "id": "hPFe1qszRcS2"
      },
      "outputs": [],
      "source": [
        "mexico_temp = pd.read_csv('/content/drive/MyDrive/covid_data_collection/Mexico_temp.csv')\n",
        "mexico_temp"
      ]
    },
    {
      "cell_type": "code",
      "execution_count": null,
      "metadata": {
        "id": "rlF4w_5PsGC3"
      },
      "outputs": [],
      "source": [
        "mexico_temp['MO']=mexico_temp.MO.astype(str)\n",
        "mexico_temp['DY']=mexico_temp.DY.astype(str)\n",
        "mexico_temp['MO'].replace(['1','2','3','4','5','6','7','8','9'],['01','02','03','04','05','06','07','08','09'],inplace=True)\n",
        "mexico_temp['DY'].replace(['1','2','3','4','5','6','7','8','9'],['01','02','03','04','05','06','07','08','09'],inplace=True)"
      ]
    },
    {
      "cell_type": "code",
      "execution_count": null,
      "metadata": {
        "id": "bObuGajERi3t"
      },
      "outputs": [],
      "source": [
        "mexico_temp['date'] = mexico_temp['YEAR'].astype(str) + '-' + mexico_temp['MO'].astype(str) + '-' + mexico_temp['DY'].astype(str)\n",
        "mexico_temp"
      ]
    },
    {
      "cell_type": "code",
      "execution_count": null,
      "metadata": {
        "id": "ebRptPv3RkIA"
      },
      "outputs": [],
      "source": [
        "mexico_temp=mexico_temp[['date','T2M']]\n",
        "mexico_temp\n"
      ]
    },
    {
      "cell_type": "code",
      "execution_count": null,
      "metadata": {
        "id": "nVWQMbcwlfqh"
      },
      "outputs": [],
      "source": [
        "mexico_temp['location']='Mexico'\n",
        "mexico_temp"
      ]
    },
    {
      "cell_type": "code",
      "execution_count": null,
      "metadata": {
        "id": "JJOY6UyVR8ge"
      },
      "outputs": [],
      "source": [
        "#Philippines_temp dataset and temparature"
      ]
    },
    {
      "cell_type": "code",
      "execution_count": null,
      "metadata": {
        "id": "hvXGgscvSFq6"
      },
      "outputs": [],
      "source": [
        "Philippines_temp = pd.read_csv('/content/drive/MyDrive/covid_data_collection/phi_temp.csv')\n",
        "Philippines_temp\n"
      ]
    },
    {
      "cell_type": "code",
      "execution_count": null,
      "metadata": {
        "id": "RCCI-rAYsXKf"
      },
      "outputs": [],
      "source": [
        "Philippines_temp['MO']=Philippines_temp.MO.astype(str)\n",
        "Philippines_temp['DY']=Philippines_temp.DY.astype(str)\n",
        "Philippines_temp['MO'].replace(['1','2','3','4','5','6','7','8','9'],['01','02','03','04','05','06','07','08','09'],inplace=True)\n",
        "Philippines_temp['DY'].replace(['1','2','3','4','5','6','7','8','9'],['01','02','03','04','05','06','07','08','09'],inplace=True)"
      ]
    },
    {
      "cell_type": "code",
      "execution_count": null,
      "metadata": {
        "id": "imndqamISHy_"
      },
      "outputs": [],
      "source": [
        "\n",
        "Philippines_temp['date'] = Philippines_temp['YEAR'].astype(str) + '-' + Philippines_temp['MO'].astype(str) + '-' + Philippines_temp['DY'].astype(str)\n",
        "Philippines_temp"
      ]
    },
    {
      "cell_type": "code",
      "execution_count": null,
      "metadata": {
        "id": "TbzQWEEUSKIz"
      },
      "outputs": [],
      "source": [
        "Philippines_temp=Philippines_temp[['date','T2M']]\n",
        "Philippines_temp"
      ]
    },
    {
      "cell_type": "code",
      "execution_count": null,
      "metadata": {
        "id": "WIjmDwp6So8d"
      },
      "outputs": [],
      "source": [
        "\n",
        "\n",
        "Philippines_temp['location']='Philippines'\n",
        "Philippines_temp"
      ]
    },
    {
      "cell_type": "code",
      "execution_count": null,
      "metadata": {
        "id": "lbsURQbfqyEf"
      },
      "outputs": [],
      "source": [
        "#****************combining datasets*************"
      ]
    },
    {
      "cell_type": "code",
      "execution_count": null,
      "metadata": {
        "id": "mhb8ZByioWJi"
      },
      "outputs": [],
      "source": [
        "\n",
        "final_dataset_bangladesh=pd.merge(update_dataset,Bangladesh_temp, on=['location','date'])\n",
        "final_dataset_bangladesh['date']=pd.to_datetime(final_dataset_bangladesh['date'])\n",
        "final_dataset_bangladesh"
      ]
    },
    {
      "cell_type": "code",
      "execution_count": null,
      "metadata": {
        "id": "5FP_9oL8PbXU"
      },
      "outputs": [],
      "source": [
        "set(final_dataset_bangladesh['date'])"
      ]
    },
    {
      "cell_type": "code",
      "execution_count": null,
      "metadata": {
        "id": "KPANJRozqy8W"
      },
      "outputs": [],
      "source": [
        "final_dataset_mexico=pd.merge(update_dataset,mexico_temp, on=['location','date'])\n",
        "final_dataset_mexico['date']=pd.to_datetime(final_dataset_mexico['date'])"
      ]
    },
    {
      "cell_type": "code",
      "execution_count": null,
      "metadata": {
        "id": "EVRWzhG6ru-Q"
      },
      "outputs": [],
      "source": [
        "\n",
        "\n",
        "\n",
        "final_dataset_Vietnam=pd.merge(update_dataset,Vietnam_temp, on=['location','date'])\n",
        "final_dataset_Vietnam['date']=pd.to_datetime(final_dataset_Vietnam['date'])"
      ]
    },
    {
      "cell_type": "code",
      "execution_count": null,
      "metadata": {
        "id": "oZX9hZa8rvGM"
      },
      "outputs": [],
      "source": [
        "final_dataset_Philippines=pd.merge(update_dataset,Philippines_temp, on=['location','date'])\n",
        "#final_dataset_Philippines\n",
        "final_dataset_Philippines['date']=pd.to_datetime(final_dataset_Philippines['date'])"
      ]
    },
    {
      "cell_type": "code",
      "execution_count": null,
      "metadata": {
        "id": "Md0RUNcGrvVp"
      },
      "outputs": [],
      "source": [
        "final_dataset_Indonesia=pd.merge(update_dataset,Indonesia_temp, on=['location','date'])\n",
        "#final_dataset_Indonesia\n",
        "final_dataset_Indonesia['date']=pd.to_datetime(final_dataset_Indonesia['date'])"
      ]
    },
    {
      "cell_type": "code",
      "execution_count": null,
      "metadata": {
        "id": "MIKn0Szkl2Bs"
      },
      "outputs": [],
      "source": [
        "#**************************combining Bangladesh data frame one by one location and date ***********************************\n"
      ]
    },
    {
      "cell_type": "code",
      "execution_count": null,
      "metadata": {
        "id": "2WVmUJdB_hdR"
      },
      "outputs": [],
      "source": [
        "# update_dataset_bangladesh= new_data [(new_data['location'] == \"Bangladesh\")]\n",
        "# update_dataset_bangladesh\n"
      ]
    },
    {
      "cell_type": "code",
      "execution_count": null,
      "metadata": {
        "id": "WrijUExHoFML"
      },
      "outputs": [],
      "source": [
        "# Bangladesh_dataset=pd.merge(update_dataset_bangladesh,Bangladesh_temp)\n",
        "# Bangladesh_dataset"
      ]
    },
    {
      "cell_type": "code",
      "execution_count": null,
      "metadata": {
        "id": "MUjTJGuljVhH"
      },
      "outputs": [],
      "source": [
        "#Canada data combining"
      ]
    },
    {
      "cell_type": "code",
      "execution_count": null,
      "metadata": {
        "id": "zPt5KDFclSEP"
      },
      "outputs": [],
      "source": [
        "# update_dataset_canada= new_data [(new_data['location'] == \"Canada\")]\n",
        "# update_dataset_canada"
      ]
    },
    {
      "cell_type": "code",
      "execution_count": null,
      "metadata": {
        "id": "Da5wXCdhlXLP"
      },
      "outputs": [],
      "source": [
        "# canada_dataset=pd.merge(update_dataset_canada,Canada_temp)\n",
        "# canada_dataset"
      ]
    },
    {
      "cell_type": "code",
      "execution_count": null,
      "metadata": {
        "id": "vElrfd74thcZ"
      },
      "outputs": [],
      "source": [
        "from matplotlib import rcParams\n",
        "rcParams['figure.figsize']=7,3.5\n",
        "#*************end****************************\n",
        "plt.plot(final_dataset_bangladesh.date,final_dataset_bangladesh.new_cases,'r',linewidth=3,label='bangladesh',markerfacecolor='red')\n",
        "plt.plot(final_dataset_mexico.date,final_dataset_mexico.new_cases,'y',linewidth=3,label='mexico',markerfacecolor='green')\n",
        "plt.plot(final_dataset_Vietnam.date,final_dataset_Vietnam.new_cases,'b',linewidth=3,label='Vietnam',markerfacecolor='blue')\n",
        "plt.plot(final_dataset_Philippines.date,final_dataset_Philippines.new_cases,'_',linewidth=3,label='Philippines',markerfacecolor='pink')\n",
        "plt.plot(final_dataset_Indonesia.date,final_dataset_Indonesia.new_cases,'p',linewidth=3,label='Indonesia',markerfacecolor='yellow')\n",
        "plt.title('Country wise New_cases')\n",
        "plt.xlabel('Year and Month ')\n",
        "plt.ylabel('New cases')\n",
        "\n",
        "#plt.xticks(size=20)\n",
        "#plt.yticks(size=20)\n",
        "plt.legend()\n",
        "#plt.tick_params(axis='x', which='major', labelsize=0)\n",
        "plt.savefig('All Countrys infection 1.jpg')\n",
        "plt.show()\n"
      ]
    },
    {
      "cell_type": "code",
      "execution_count": null,
      "metadata": {
        "id": "PZwlM4prK1Q6"
      },
      "outputs": [],
      "source": [
        "from matplotlib import rcParams\n",
        "rcParams['figure.figsize']=20,8\n",
        "#*************end****************************\n",
        "plt.plot(final_dataset_bangladesh.date,final_dataset_bangladesh.new_cases,'r',linewidth=3,label='bangladesh',markerfacecolor='red')\n",
        "plt.plot(final_dataset_mexico.date,final_dataset_mexico.new_cases,'y',linewidth=3,label='mexico',markerfacecolor='green')\n",
        "plt.plot(final_dataset_Vietnam.date,final_dataset_Vietnam.new_cases,'b',linewidth=3,label='Vietnam',markerfacecolor='blue')\n",
        "plt.plot(final_dataset_Philippines.date,final_dataset_Philippines.new_cases,'o',linewidth=3,label='Philippines',markerfacecolor='pink')\n",
        "plt.plot(final_dataset_Indonesia.date,final_dataset_Indonesia.new_cases,'p',linewidth=3,label='Indonesia',markerfacecolor='yellow')\n",
        "plt.title('Country wise New_cases')\n",
        "plt.xlabel('Year and Month ')\n",
        "plt.ylabel('New cases')\n",
        "plt.legend()\n",
        "#plt.tick_params(axis='x', which='major', labelsize=0)\n",
        "plt.grid()\n",
        "plt.savefig('All Country infection.jpg')\n",
        "plt.show()\n"
      ]
    },
    {
      "cell_type": "code",
      "execution_count": null,
      "metadata": {
        "id": "Mg4J3pLnzGAt"
      },
      "outputs": [],
      "source": [
        "fig , ax1= plt.subplots(figsize=(10,3.5))\n",
        "ax2= ax1.twinx()\n",
        "ax1.plot(final_dataset_bangladesh.date,final_dataset_bangladesh.new_cases,color= 'blue',linewidth=3,label='New case and Date')\n",
        "ax2.plot(final_dataset_bangladesh.date,final_dataset_bangladesh.T2M,color='red',linewidth=3,label='Date and temparature')\n",
        "plt.title('Bangladesh new_case and temparature relation')\n",
        "ax1.set_xlabel('Date Yearly and Monthly(Month consider as season)')\n",
        "ax1.set_ylabel('New cases')\n",
        "ax2.set_ylabel('Temparature')\n",
        "ax1.legend(loc='upper right')\n",
        "ax2.legend(loc='upper left')\n",
        "ax1.grid()\n",
        "ax2.grid()\n",
        "\n",
        "\n",
        "#ax1.set_xticklabels(final_dataset_bangladesh.date,fontsize=10)\n",
        "#ax1.set_yticklabels(final_dataset_bangladesh.new_cases,fontsize=20)\n",
        "\n",
        "\n",
        "plt.savefig('Bangladesh new_case, Temparature and date.jpg')\n",
        "plt.show()\n"
      ]
    },
    {
      "cell_type": "code",
      "execution_count": null,
      "metadata": {
        "id": "yMC4DTL1dEsW"
      },
      "outputs": [],
      "source": [
        "fig , ax1= plt.subplots(figsize=(10,3.5))\n",
        "ax2= ax1.twinx()\n",
        "ax1.plot(final_dataset_mexico.date,final_dataset_mexico.new_cases,color= 'blue',linewidth=3,label='New case and Date')\n",
        "ax2.plot(final_dataset_mexico.date,final_dataset_mexico.T2M,color='red',linewidth=3,label='Date and temparature')\n",
        "plt.title('Maxico new_case and temparature relation')\n",
        "ax1.set_xlabel('Date Yearly and Monthly(Month consider as season)')\n",
        "ax1.set_ylabel('New cases')\n",
        "ax2.set_ylabel('Temparature')\n",
        "ax1.legend(loc='upper right')\n",
        "ax2.legend(loc='upper left')\n",
        "ax1.grid()\n",
        "ax2.grid()\n",
        "plt.savefig('maxico new_case, Temparature and date.jpg')\n",
        "plt.show()\n"
      ]
    },
    {
      "cell_type": "code",
      "execution_count": null,
      "metadata": {
        "id": "P7wCqiSS4oDC"
      },
      "outputs": [],
      "source": [
        "fig , ax1= plt.subplots(figsize=(10,3.5))\n",
        "ax2= ax1.twinx()\n",
        "ax1.plot(final_dataset_Vietnam.date,final_dataset_Vietnam.new_cases,color= 'blue',linewidth=3,label='New case and Date')\n",
        "ax2.plot(final_dataset_Vietnam.date,final_dataset_Vietnam.T2M,color='red',linewidth=3,label='Date and temparature')\n",
        "plt.title('Vietnam new_case and temparature relation')\n",
        "ax1.set_xlabel('Date Yearly and Monthly(Month consider as season)')\n",
        "ax1.set_ylabel('New cases')\n",
        "ax2.set_ylabel('Temparature')\n",
        "ax1.legend(loc='upper right')\n",
        "ax2.legend(loc='upper left')\n",
        "ax1.grid()\n",
        "ax2.grid()\n",
        "plt.savefig('Vietnam new_case, Temparature and date.jpg')\n",
        "plt.show()"
      ]
    },
    {
      "cell_type": "code",
      "execution_count": null,
      "metadata": {
        "id": "uuZ7wfRe4oNc"
      },
      "outputs": [],
      "source": [
        "\n",
        "fig , ax1= plt.subplots(figsize=(10,3.5))\n",
        "ax2= ax1.twinx()\n",
        "ax1.plot(final_dataset_Philippines.date,final_dataset_Philippines.new_cases,color= 'blue',linewidth=3,label='New case and Date')\n",
        "ax2.plot(final_dataset_Philippines.date,final_dataset_Philippines.T2M,color='red',linewidth=3,label='Date and temparature')\n",
        "plt.title('Philippines new_case and temparature relation')\n",
        "ax1.set_xlabel('Date Yearly and Monthly(Month consider as season)')\n",
        "ax1.set_ylabel('New cases')\n",
        "ax2.set_ylabel('Temparature')\n",
        "ax1.legend(loc='upper right')\n",
        "ax2.legend(loc='upper left')\n",
        "ax1.grid()\n",
        "ax2.grid()\n",
        "plt.savefig('Philippines new_case, Temparature and date.jpg')\n",
        "plt.show()\n"
      ]
    },
    {
      "cell_type": "code",
      "execution_count": null,
      "metadata": {
        "id": "6bZ1nx8L4oXk"
      },
      "outputs": [],
      "source": [
        "from numpy.ma.core import size\n",
        "fig , ax1= plt.subplots(figsize=(10,3.5))\n",
        "ax2= ax1.twinx()\n",
        "ax1.plot(final_dataset_Indonesia.date,final_dataset_Indonesia.new_cases,color= 'blue',linewidth=3,label='New case and Date',)\n",
        "ax2.plot(final_dataset_Indonesia.date,final_dataset_Indonesia.T2M,color='red',linewidth=3,label='Date and temparature')\n",
        "plt.title('Indonesia new_case and temparature relation')\n",
        "ax1.set_xlabel('Date Yearly and Monthly(Month consider as season)')\n",
        "ax1.set_ylabel('New cases')\n",
        "ax2.set_ylabel('Temparature')\n",
        "ax1.legend(loc='upper right')\n",
        "ax2.legend(loc='upper left')\n",
        "\n",
        "ax1.grid()\n",
        "ax2.grid()\n",
        "\n",
        "\n",
        "\n",
        "plt.savefig('Indonesia new_case, Temparature and date.jpg')\n",
        "plt.show()\n"
      ]
    },
    {
      "cell_type": "code",
      "source": [
        "from numpy.ma.core import size\n",
        "fig , ax1= plt.subplots(figsize=(25,12))\n",
        "ax2= ax1.twinx()\n",
        "ax1.plot(final_dataset_bangladesh.date,final_dataset_bangladesh.new_cases,color= 'blue',linewidth=3,label='Bangladesh New case and Date')\n",
        "ax2.plot(final_dataset_bangladesh.date,final_dataset_bangladesh.T2M,color='red',linewidth=3,label='Bangladesh Date and temparature')\n",
        "\n",
        "ax1.plot(final_dataset_mexico.date,final_dataset_mexico.new_cases,color= 'yellow',linewidth=3,label='Mexico New case and Date')\n",
        "ax2.plot(final_dataset_mexico.date,final_dataset_mexico.T2M,color='green',linewidth=3,label='Mexico Date and temparature')\n",
        "\n",
        "ax1.plot(final_dataset_Vietnam.date,final_dataset_Vietnam.new_cases,color= 'Orange',linewidth=3,label='Vietnam New case and Date')\n",
        "ax2.plot(final_dataset_Vietnam.date,final_dataset_Vietnam.T2M,color='Pink',linewidth=3,label='Vietnam Date and temparature')\n",
        "\n",
        "ax1.plot(final_dataset_Philippines.date,final_dataset_Philippines.new_cases,color= 'Black',linewidth=3,label='Philippines New case and Date')\n",
        "ax2.plot(final_dataset_Philippines.date,final_dataset_Philippines.T2M,color='SlateGray',linewidth=3,label='Philippines Date and temparature')\n",
        "\n",
        "ax1.plot(final_dataset_Indonesia.date,final_dataset_Indonesia.new_cases,color= 'Goldenrod',linewidth=3,label='Indonesia New case and Date')\n",
        "ax2.plot(final_dataset_Indonesia.date,final_dataset_Indonesia.T2M,color='Brown',linewidth=3,label='Indonesia Date and temparature')\n",
        "\n",
        "\n",
        "\n",
        "plt.title('Co-relation between new_case and temparature relation')\n",
        "ax1.set_xlabel('Date Yearly and Monthly(Month consider as season)')\n",
        "ax1.set_ylabel('New cases')\n",
        "ax2.set_ylabel('Temparature')\n",
        "ax1.legend(loc='upper right')\n",
        "ax2.legend(loc='upper left')\n",
        "\n",
        "ax1.grid()\n",
        "ax2.grid()\n",
        "\n",
        "\n",
        "\n",
        "plt.savefig('ALL new_case, Temparature and date.jpg')\n",
        "plt.show()\n"
      ],
      "metadata": {
        "id": "CLDw-1Ai6mLB"
      },
      "execution_count": null,
      "outputs": []
    },
    {
      "cell_type": "code",
      "execution_count": null,
      "metadata": {
        "id": "-gL6K4JDmZLw"
      },
      "outputs": [],
      "source": [
        "download_now=pd.concat([final_dataset_bangladesh,final_dataset_mexico,final_dataset_Vietnam,final_dataset_Philippines,final_dataset_Indonesia])\n",
        "download_now"
      ]
    },
    {
      "cell_type": "code",
      "execution_count": null,
      "metadata": {
        "id": "v5aG6ybrQNGe"
      },
      "outputs": [],
      "source": [
        "download_now['new_cases']=download_now['new_cases'].abs()\n",
        "download_now['new_deaths']=download_now['new_deaths'].abs()\n",
        "\n",
        "# to replace coloume by value\n",
        "#download_now.replace({'new_cases': {0.0: 100.0}})"
      ]
    },
    {
      "cell_type": "code",
      "execution_count": null,
      "metadata": {
        "id": "xyFfqYRnlWlN"
      },
      "outputs": [],
      "source": [
        "set(download_now['location'])"
      ]
    },
    {
      "cell_type": "code",
      "execution_count": null,
      "metadata": {
        "id": "Rl99ioh4OYOi"
      },
      "outputs": [],
      "source": [
        "download_now.min()"
      ]
    },
    {
      "cell_type": "code",
      "execution_count": null,
      "metadata": {
        "id": "3ltrkiZ1Otcj"
      },
      "outputs": [],
      "source": [
        "download_now.max()"
      ]
    },
    {
      "cell_type": "code",
      "execution_count": null,
      "metadata": {
        "id": "0B2JtZ7l9OcN"
      },
      "outputs": [],
      "source": [
        "download_now.isnull().sum()"
      ]
    },
    {
      "cell_type": "code",
      "execution_count": null,
      "metadata": {
        "id": "YkLFD1OUbnSm"
      },
      "outputs": [],
      "source": [
        "My_table=download_now[['date','location','new_cases','T2M']]\n",
        "My_table"
      ]
    },
    {
      "cell_type": "code",
      "execution_count": null,
      "metadata": {
        "id": "CqPWfsLNGM91"
      },
      "outputs": [],
      "source": [
        "\n",
        "Summer= download_now[ (download_now['date']>= \"2020-03-22\") & (download_now['date']<= \"2020-06-30\") | (download_now['date']>= \"2021-03-01\") & (download_now['date']<= \"2021-06-30\") ]\n",
        "\n",
        "\n",
        "#Summer2021= download_now [ (download_now['date']>= \"2021-03-01\") & (download_now['date']<= \"2021-06-30\") ]\n",
        "#Summer['date'] = pd.to_datetime(Summer[\"date\".dt.strftime('%Y-%m-%d')])"
      ]
    },
    {
      "cell_type": "code",
      "execution_count": null,
      "metadata": {
        "id": "D8TA6pZCMNjA"
      },
      "outputs": [],
      "source": [
        "from datetime import date\n",
        "#print(Summer['date'].dtypes)\n",
        "Summer['date']=pd.to_datetime(Summer['date'])\n",
        "Summer"
      ]
    },
    {
      "cell_type": "code",
      "execution_count": null,
      "metadata": {
        "id": "80S4Y-orXZ8Z"
      },
      "outputs": [],
      "source": [
        "print(Summer['date'].dtypes)"
      ]
    },
    {
      "cell_type": "code",
      "execution_count": null,
      "metadata": {
        "id": "_jm4982_NXja"
      },
      "outputs": [],
      "source": [
        "#set(Summer2020['date'])"
      ]
    },
    {
      "cell_type": "code",
      "execution_count": null,
      "metadata": {
        "id": "oxEBPKjeNsec"
      },
      "outputs": [],
      "source": [
        "#set(download_now.loc[Summer2020,'date'])"
      ]
    },
    {
      "cell_type": "code",
      "execution_count": null,
      "metadata": {
        "id": "JZUB-_p4Qr9L"
      },
      "outputs": [],
      "source": [
        "spring= download_now[ (download_now['date']>= \"2020-07-01\") & (download_now['date']<= \"2020-10-31\") | (download_now['date']>= \"2021-07-01\") & (download_now['date']<= \"2021-10-31\") ]\n",
        "\n",
        "spring['date']=pd.to_datetime(spring['date'])\n",
        "#spring2020= download_now[ (download_now['date']>= \"2020-07-01\") & (download_now['date']<= \"2020-10-31\")  ]\n",
        "\n",
        "#Spring2021= download_now[ (download_now['date']>= \"2021-07-01\") & (download_now['date']<= \"2021-10-31\")]"
      ]
    },
    {
      "cell_type": "code",
      "execution_count": null,
      "metadata": {
        "id": "PVz5wmJhQu9P"
      },
      "outputs": [],
      "source": [
        "winter= download_now [(download_now['date']>= \"2020-11-01\") & (download_now['date']<= \"2021-02-28\") | (download_now['date']>= \"2021-11-01\") & (download_now['date']<= \"2022-02-28\") ]\n",
        "\n",
        "#winter2020= download_now [(download_now['date']>= \"2020-11-01\") & (download_now['date']<= \"2021-02-28\") ]\n",
        "winter['date']=pd.to_datetime(winter['date'])\n",
        "#winter2021= download_now[ (download_now['date']>= \"2021-11-01\") & (download_now['date']<= \"2022-02-28\")]\n",
        "winter"
      ]
    },
    {
      "cell_type": "code",
      "execution_count": null,
      "metadata": {
        "id": "Jl3BkRlsTKQx"
      },
      "outputs": [],
      "source": [
        "\n",
        "#download_now[winter2021].max()"
      ]
    },
    {
      "cell_type": "code",
      "execution_count": null,
      "metadata": {
        "id": "RFgYfJMpUaqD"
      },
      "outputs": [],
      "source": [
        "#set(download_now.loc[winter2021,'date'])\n",
        "set(winter['location'])"
      ]
    },
    {
      "cell_type": "code",
      "execution_count": null,
      "metadata": {
        "id": "VTukRqFKFUqc"
      },
      "outputs": [],
      "source": [
        "x=Summer['location']\n",
        "y=Summer['new_cases']\n",
        "Z=Summer['T2M']\n",
        "\n",
        "plt.plot(x,y)\n",
        "plt.plot(x,Z)\n",
        "plt.show()"
      ]
    },
    {
      "cell_type": "code",
      "execution_count": null,
      "metadata": {
        "id": "lt0aidRvdcWu"
      },
      "outputs": [],
      "source": [
        "x=spring['location']\n",
        "y=spring['new_cases']\n",
        "Z=spring['T2M']\n",
        "\n",
        "plt.plot(x,y)\n",
        "plt.plot(x,Z)\n",
        "plt.show()"
      ]
    },
    {
      "cell_type": "code",
      "execution_count": null,
      "metadata": {
        "id": "ZyN5DpOideLY"
      },
      "outputs": [],
      "source": [
        "x=winter['location']\n",
        "y=winter['new_cases']\n",
        "Z=winter['T2M']\n",
        "\n",
        "plt.plot(x,y)\n",
        "plt.plot(x,Z)\n",
        "plt.show()"
      ]
    },
    {
      "cell_type": "code",
      "execution_count": null,
      "metadata": {
        "id": "ZqBWqDU_KH2s"
      },
      "outputs": [],
      "source": [
        "'''#************this is used for increseing the grap size\n",
        "from matplotlib import rcParams\n",
        "rcParams['figure.figsize']=10,5\n",
        "#*************end****************************\n",
        "\n",
        "wd=2\n",
        "wl=winter['location'].tolist()\n",
        "sl=Summer['location'].tolist()\n",
        "spl=spring['location'].tolist()\n",
        "\n",
        "bar1= np.arange(len(wl))\n",
        "bar2=[i+wd for i in bar1]\n",
        "bar3=[i+wd for i in bar2]\n",
        "\n",
        "plt.bar(bar1,winter.new_cases,wd,label='winter')\n",
        "plt.bar(bar2,Summer.new_cases,wd,label='Summer')\n",
        "plt.bar(bar3,spring.new_cases,wd,label='spring')\n",
        "plt.xticks(bar1,wl)\n",
        "plt.xticks(bar2,sl)\n",
        "plt.xtricks(bar3,spl)\n",
        "plt.legend()\n",
        "#plt.tick_params(axis='x', which='major', labelsize=0)\n",
        "plt.show()'''"
      ]
    },
    {
      "cell_type": "code",
      "execution_count": null,
      "metadata": {
        "id": "v_H1IrLjxOGs"
      },
      "outputs": [],
      "source": [
        "\n"
      ]
    },
    {
      "cell_type": "code",
      "execution_count": null,
      "metadata": {
        "id": "R4KZviN0EU3R"
      },
      "outputs": [],
      "source": [
        "#************this is used for increseing the grap size\n",
        "from matplotlib import rcParams\n",
        "rcParams['figure.figsize']=20,8\n",
        "#*************end****************************\n",
        "plt.plot(Summer.location,Summer.new_cases,label='Summer')\n",
        "plt.plot(spring.location,spring.new_cases,label='spring')\n",
        "plt.plot(winter.location,winter.new_cases,label='winter')\n",
        "plt.legend()\n",
        "#plt.tick_params(axis='x', which='major', labelsize=0)\n",
        "plt.show()"
      ]
    },
    {
      "cell_type": "code",
      "execution_count": null,
      "metadata": {
        "id": "SAvs2ceeo_9a"
      },
      "outputs": [],
      "source": [
        "#************this is used for increseing the grap size\n",
        "from matplotlib import rcParams\n",
        "rcParams['figure.figsize']=10,3.5\n",
        "#*************end****************************\n",
        "plt.bar(Summer.location,Summer.new_cases,width=0.6,label='Summer')\n",
        "plt.bar(spring.location,spring.new_cases,width=0.4,label='spring')\n",
        "plt.bar(winter.location,winter.new_cases,width=0.2,label='winter')\n",
        "plt.xlabel('Country wise new cases')\n",
        "plt.ylabel('New_cases')\n",
        "plt.legend(loc='upper left',fontsize=15)\n",
        "#plt.tick_params(axis='x', which='major', labelsize=0)\n",
        "plt.grid()\n",
        "#plt.xticks()\n",
        "#plt.yticks()\n",
        "plt.savefig('Season wise Infection rate.jpg')\n",
        "plt.show()\n",
        "plt.show()\n"
      ]
    },
    {
      "cell_type": "code",
      "execution_count": null,
      "metadata": {
        "id": "6SQC7ZtzeXfz"
      },
      "outputs": [],
      "source": [
        "#************this is used for increseing the grap size\n",
        "from matplotlib import rcParams\n",
        "rcParams['figure.figsize']=8,4\n",
        "#*************end****************************\n",
        "plt.bar(Summer.location,Summer.new_deaths,width=0.6,label='Summer')\n",
        "plt.bar(spring.location,spring.new_deaths,width=0.4,label='spring')\n",
        "plt.bar(winter.location,winter.new_deaths,width=0.2,label='winter')\n",
        "\n",
        "plt.xlabel('Country wise death rate',size=15)\n",
        "plt.ylabel('New_death',size=15)\n",
        "plt.legend(fontsize=14)\n",
        "#plt.tick_params(axis='x', which='major', labelsize=0)\n",
        "plt.grid()\n",
        "plt.xticks(size=15)\n",
        "plt.yticks(size=15)\n",
        "plt.savefig('Season wise death rate.jpg')\n",
        "plt.show()\n",
        "#plt.tick_params(axis='x', which='major', labelsize=0)"
      ]
    },
    {
      "cell_type": "code",
      "execution_count": null,
      "metadata": {
        "id": "eDa8OLPf3Pr9"
      },
      "outputs": [],
      "source": [
        "'''\n",
        "rcParams['figure.figsize']=15,5\n",
        "#*************end****************************\n",
        "plt.plot(Summer.date['2020-03-22','2020-04-10','2020-05-15','2020-06-02'],Summer.total_cases)\n",
        "plt.plot(spring.date['2020-07-05','2020-08-10','2020-09-15','2020-10-10'],spring.total_cases)\n",
        "plt.plot(winter.date['2020-11-10','2020-12-10','2021-01-10','2021-02-05'],winter.total_cases)\n",
        "\n",
        "#plt.tick_params(axis='x', which='major', labelsize=0)\n",
        "plt.show()\n",
        "'''"
      ]
    },
    {
      "cell_type": "code",
      "execution_count": null,
      "metadata": {
        "id": "UAmMTvMqaBf5"
      },
      "outputs": [],
      "source": [
        "'''\n",
        "%matplotlib inline\n",
        "Summer.total_cases.resample('M').mean().plot()\n",
        "'''"
      ]
    },
    {
      "cell_type": "code",
      "execution_count": null,
      "metadata": {
        "id": "JuiB7fZ6iQk4"
      },
      "outputs": [],
      "source": [
        "'''\n",
        "rcParams['figure.figsize']=15,5\n",
        "#*************end****************************\n",
        "plt.plot(Summer.random.choice('date'),Summer.total_cases)\n",
        "\n",
        "#plt.tick_params(axis='x', which='major', labelsize=0)\n",
        "plt.show()\n",
        "'''"
      ]
    },
    {
      "cell_type": "code",
      "execution_count": null,
      "metadata": {
        "id": "4ku7REb1AYX-"
      },
      "outputs": [],
      "source": [
        "from matplotlib import rcParams\n",
        "rcParams['figure.figsize']=20,8\n",
        "#*************end****************************\n",
        "plt.plot(Summer.date,Summer.new_cases,label='Summer')\n",
        "plt.plot(spring.date,spring.new_cases,label='spring')\n",
        "plt.plot(winter.date,winter.new_cases,label='winter')\n",
        "\n",
        "#plt.tick_params(axis='x', which='major', labelsize=0)\n",
        "plt.show()"
      ]
    },
    {
      "cell_type": "code",
      "execution_count": null,
      "metadata": {
        "id": "tmi_9xHcLLmB"
      },
      "outputs": [],
      "source": [
        "from matplotlib import rcParams\n",
        "rcParams['figure.figsize']=20,8\n",
        "#*************end****************************\n",
        "many_line=plt.subplot(111)\n",
        "many_line.plot(Summer.date,Summer.new_cases,label='Summer')\n",
        "many_line.plot(spring.date,spring.new_cases,label='spring')\n",
        "many_line.plot(winter.date,winter.new_cases,label='winter')\n",
        "plt.legend()\n",
        "#plt.tick_params(axis='x', which='major', labelsize=0)\n",
        "plt.show()"
      ]
    },
    {
      "cell_type": "code",
      "execution_count": null,
      "metadata": {
        "id": "ZssSwwUHtRNI"
      },
      "outputs": [],
      "source": [
        "from matplotlib import rcParams\n",
        "rcParams['figure.figsize']=10,4\n",
        "#*************end****************************\n",
        "plt.plot(Summer.date,Summer.new_cases,'r',linewidth=3,label='Summer')\n",
        "plt.plot(spring.date,spring.new_cases,'y',linewidth=3,label='spring')\n",
        "plt.plot(winter.date,winter.new_cases,'b',linewidth=3,label='winter')\n",
        "plt.legend()\n",
        "#plt.tick_params(axis='x', which='major', labelsize=0)\n",
        "plt.show()"
      ]
    },
    {
      "cell_type": "code",
      "execution_count": null,
      "metadata": {
        "id": "x2znw8UCuwiz"
      },
      "outputs": [],
      "source": [
        "#************this is used for increseing the grap size\n",
        "from matplotlib import rcParams\n",
        "rcParams['figure.figsize']=10,4\n",
        "#*************end****************************\n",
        "plt.bar(Summer.date,Summer.new_cases,label='Summer',width=2.5)\n",
        "plt.bar(spring.date,spring.new_cases,label='spring',width=2.5)\n",
        "plt.bar(winter.date,winter.new_cases,label='winter',width=2.5)\n",
        "plt.xlabel('Date')\n",
        "plt.ylabel('New_cases')\n",
        "plt.legend()\n",
        "#plt.tick_params(axis='x', which='major', labelsize=0)\n",
        "plt.xticks()\n",
        "plt.yticks()\n",
        "plt.grid()\n",
        "plt.savefig('Mostly infection month.jpg')\n",
        "plt.show()\n",
        "#plt.tick_params(axis='x', which='major', labelsize=0)"
      ]
    },
    {
      "cell_type": "code",
      "execution_count": null,
      "metadata": {
        "id": "F8u7WPGpdHXb"
      },
      "outputs": [],
      "source": [
        "from matplotlib import rcParams\n",
        "rcParams['figure.figsize']=20,8\n",
        "#*************end****************************\n",
        "\n",
        "plt.bar(final_dataset_bangladesh.date,final_dataset_bangladesh.total_cases,label='bangladesh')\n",
        "plt.bar(final_dataset_mexico.date,final_dataset_mexico.total_cases,label='mexico')\n",
        "plt.bar(final_dataset_Vietnam.date,final_dataset_Vietnam.total_cases,label='Vietnam')\n",
        "plt.bar(final_dataset_Philippines.date,final_dataset_Philippines.total_cases,label='Philippines')\n",
        "plt.bar(final_dataset_Indonesia.date,final_dataset_Indonesia.total_cases,label='Indonesia')\n",
        "plt.legend()\n",
        "\n",
        "#plt.tick_params(axis='x', which='major', labelsize=0)\n",
        "plt.show()"
      ]
    },
    {
      "cell_type": "code",
      "execution_count": null,
      "metadata": {
        "id": "vJUoijzaA6AA"
      },
      "outputs": [],
      "source": [
        "#plt.pie(download_now['total_cases'],labels=download_now['location'])"
      ]
    },
    {
      "cell_type": "code",
      "execution_count": null,
      "metadata": {
        "id": "47k2DJDbRGwE"
      },
      "outputs": [],
      "source": [
        "bangladesh_summer_data=Summer[(Summer['location'] == \"Bangladesh\")]\n",
        "bangladesh_spring_data=spring[(spring['location'] == \"Bangladesh\")]\n",
        "bangladesh_winter_data=winter[(winter['location'] == \"Bangladesh\")]\n",
        "\n",
        "bangladesh_summer_data['season']='summer'\n",
        "bangladesh_spring_data['season']='spring'\n",
        "bangladesh_winter_data['season']='winter'\n",
        "\n",
        "bd_seasons=pd.concat([bangladesh_summer_data,bangladesh_spring_data,bangladesh_winter_data])\n",
        "#bangladesh_spring_data=spring['location'] == \"Bangladesh\"\n",
        "#bangladesh_winter_data=winter['location']== \"Bangladesh\"\n",
        "\n",
        "#Summer.loc[bangladesh_summer_data]\n",
        "#set(Summer.loc[bangladesh_summer_data])\n",
        "#bangladesh_summer_data\n",
        "bd_seasons.max()\n"
      ]
    },
    {
      "cell_type": "code",
      "execution_count": null,
      "metadata": {
        "id": "mrVCOlfcSqpg"
      },
      "outputs": [],
      "source": [
        "pd.value_counts(bangladesh_summer_data['T2M'].values)\n",
        "\n"
      ]
    },
    {
      "cell_type": "code",
      "execution_count": null,
      "metadata": {
        "id": "zv9F15orAmUw"
      },
      "outputs": [],
      "source": [
        "rcParams['figure.figsize']=8,4\n",
        "#*************end****************************\n",
        "plt.bar(bangladesh_summer_data.season,bangladesh_summer_data.new_cases,label='Summer',width=0.4)\n",
        "plt.bar(bangladesh_spring_data.season,bangladesh_spring_data.new_cases,label='spring',width=0.4)\n",
        "plt.bar(bangladesh_winter_data.season,bangladesh_winter_data.new_cases,label='winter',width=0.4)\n",
        "plt.xlabel('season effect',size=14)\n",
        "plt.ylabel('New cases ',size=15)\n",
        "\n",
        "plt.xticks(size=15)\n",
        "plt.yticks(size=15)\n",
        "\n",
        "plt.legend(fontsize=15)\n",
        "\n",
        "#plt.tick_params(axis='x', which='major', labelsize=0)\n",
        "plt.show()"
      ]
    },
    {
      "cell_type": "code",
      "execution_count": null,
      "metadata": {
        "id": "O8H4vYoYg6aO"
      },
      "outputs": [],
      "source": [
        "mexico_summer_data=Summer[(Summer['location'] == \"Mexico\")]\n",
        "mexico_spring_data=spring[(spring['location'] == \"Mexico\")]\n",
        "mexico_winter_data=winter[(winter['location'] == \"Mexico\")]\n",
        "\n",
        "mexico_summer_data['season']='summer'\n",
        "mexico_spring_data['season']='spring'\n",
        "mexico_winter_data['season']='winter'\n",
        "\n",
        "mx_seasons=pd.concat([mexico_summer_data,mexico_spring_data,mexico_winter_data])\n",
        "\n",
        "mexico_summer_data"
      ]
    },
    {
      "cell_type": "code",
      "execution_count": null,
      "metadata": {
        "id": "okExC7h4EGVH"
      },
      "outputs": [],
      "source": [
        "rcParams['figure.figsize']=10,5\n",
        "#*************end****************************\n",
        "\n",
        "wdith=0.4\n",
        "\n",
        "plt.bar(mexico_summer_data.season,mexico_summer_data.total_cases,label=Summer)\n",
        "plt.bar(mexico_spring_data.season,mexico_spring_data.total_cases,label=spring)\n",
        "plt.bar(mexico_winter_data.season,mexico_winter_data.total_cases,label=winter)\n",
        "\n",
        "plt.bar(bangladesh_summer_data.season,bangladesh_summer_data.total_cases,label=Summer)\n",
        "plt.bar(bangladesh_spring_data.season,bangladesh_spring_data.total_cases,label=spring)\n",
        "plt.bar(bangladesh_winter_data.season,bangladesh_winter_data.total_cases,label=winter)\n",
        "\n",
        "\n",
        "#plt.tick_params(axis='x', which='major', labelsize=0)\n",
        "plt.show()"
      ]
    },
    {
      "cell_type": "code",
      "execution_count": null,
      "metadata": {
        "id": "9ZLLhzSVg87v"
      },
      "outputs": [],
      "source": [
        "Indonesia_summer_data=Summer[(Summer['location'] == \"Indonesia\")]\n",
        "Indonesia_spring_data=spring[(spring['location'] == \"Indonesia\")]\n",
        "Indonesia_winter_data=winter[(winter['location'] == \"Indonesia\")]\n",
        "\n",
        "Indonesia_summer_data['season']='summer'\n",
        "Indonesia_spring_data['season']='spring'\n",
        "Indonesia_winter_data['season']='winter'\n",
        "\n",
        "indo_seasons=pd.concat([Indonesia_summer_data,Indonesia_spring_data,Indonesia_winter_data])\n",
        "\n",
        "Indonesia_summer_data"
      ]
    },
    {
      "cell_type": "code",
      "execution_count": null,
      "metadata": {
        "id": "ZsyKERp4g9Hm"
      },
      "outputs": [],
      "source": [
        "\n",
        "Philippines_summer_data=Summer[(Summer['location'] == \"Philippines\")]\n",
        "Philippines_spring_data=spring[(spring['location'] == \"Philippines\")]\n",
        "Philippines_winter_data=winter[(winter['location'] == \"Philippines\")]\n",
        "\n",
        "Philippines_summer_data['season']='summer'\n",
        "Philippines_spring_data['season']='spring'\n",
        "Philippines_winter_data['season']='winter'\n",
        "\n",
        "ph_seasons=pd.concat([Philippines_summer_data,Philippines_spring_data,Philippines_winter_data])\n",
        "\n",
        "Philippines_summer_data"
      ]
    },
    {
      "cell_type": "code",
      "execution_count": null,
      "metadata": {
        "id": "v3RoJnWAg9QO"
      },
      "outputs": [],
      "source": [
        "\n",
        "Vietnam_summer_data=Summer[(Summer['location'] == \"Vietnam\")]\n",
        "Vietnam_spring_data=spring[(spring['location'] == \"Vietnam\")]\n",
        "Vietnam_winter_data=winter[(winter['location'] == \"Vietnam\")]\n",
        "\n",
        "Vietnam_summer_data['season']='summer'\n",
        "Vietnam_spring_data['season']='spring'\n",
        "Vietnam_winter_data['season']='winter'\n",
        "\n",
        "vt_seasons=pd.concat([Vietnam_summer_data,Vietnam_spring_data,Vietnam_winter_data])\n",
        "\n",
        "Vietnam_summer_data"
      ]
    },
    {
      "cell_type": "code",
      "execution_count": null,
      "metadata": {
        "id": "KjUsvRAafopB"
      },
      "outputs": [],
      "source": [
        "\n",
        "bd_summer_mean = bangladesh_summer_data['new_cases'].mean()\n",
        "bd_spring_mean = bangladesh_spring_data['new_cases'].mean()\n",
        "bd_winter_mean = bangladesh_winter_data['new_cases'].mean()\n",
        "\n",
        "#bd_summer_mean\n",
        "#bd_spring_mean\n",
        "#bd_winter_mean\n",
        "\n",
        "#bangladesh_summer_data.mean()"
      ]
    },
    {
      "cell_type": "code",
      "execution_count": null,
      "metadata": {
        "id": "tMjK1QWDR6Gm"
      },
      "outputs": [],
      "source": [
        "#plt.pie(bd_seasons['total_cases'].mean(),labels=bd_seasons['season'],autopct='%1.2f%%')"
      ]
    },
    {
      "cell_type": "code",
      "execution_count": null,
      "metadata": {
        "id": "u-Q-RXb_sAkH"
      },
      "outputs": [],
      "source": [
        "your_lables=bd_seasons.season\n",
        "your_values=bd_seasons['total_cases']"
      ]
    },
    {
      "cell_type": "code",
      "execution_count": null,
      "metadata": {
        "id": "EH0fFXXqydPB"
      },
      "outputs": [],
      "source": [
        "#plt.pie(bd_seasons['total_cases','season'])\n",
        "#plt.show()"
      ]
    },
    {
      "cell_type": "code",
      "execution_count": null,
      "metadata": {
        "id": "4dgo5ibiZMxK"
      },
      "outputs": [],
      "source": [
        "season='Bangladesh','Mexico','Vietnam','Philippines','Indonesia'\n",
        "\n",
        "#we can use newcases or newcases2\n",
        "\n",
        "newcases=[2298.20,3733.66,2161.66]\n",
        "\n",
        "newcases2=[ bd_seasons['new_cases'].mean(),mx_seasons['new_cases'].mean(),vt_seasons['new_cases'].mean(),ph_seasons['new_cases'].mean(),indo_seasons['new_cases'].mean()]\n",
        "\n",
        "fig1, ax1=plt.subplots(figsize=(10,5))\n",
        "\n",
        "ax1.pie(newcases2,labels=season,autopct='%1.1f%%')\n",
        "ax1.axis('equal')\n",
        "plt.xlabel('Country wise rate of new cases')\n",
        "plt.legend(loc='lower right',fontsize=12)\n",
        "plt.savefig('Country wise rate of new cases.jpg')\n",
        "plt.show()"
      ]
    },
    {
      "cell_type": "code",
      "execution_count": null,
      "metadata": {
        "id": "-k5UGZMUgTOD"
      },
      "outputs": [],
      "source": [
        "plt.figure(figsize=(15,2))\n",
        "bangladesh_season_of_covid=bangladesh_summer_data['season'].values[0],bangladesh_spring_data['season'].values[0],bangladesh_winter_data['season'].values[0]\n",
        "\n",
        "#we can use newcases or newcases2\n",
        "\n",
        "cases_of_summer_spring_winter_bd=[ bangladesh_summer_data['new_cases'].mean(),bangladesh_spring_data['new_cases'].mean(),bangladesh_winter_data['new_cases'].mean()]\n",
        "\n",
        "plt.subplot(1,5,1)\n",
        "\n",
        "plt.pie(cases_of_summer_spring_winter_bd,labels=bangladesh_season_of_covid,autopct='%1.1f%%')\n",
        "\n",
        "plt.axis('equal')\n",
        "plt.xlabel('Bangladesh')\n",
        "#**************************************************************************************\n",
        "mexico_season_of_covid=mexico_summer_data['season'].values[0],mexico_spring_data['season'].values[0],mexico_winter_data['season'].values[0]\n",
        "\n",
        "\n",
        "cases_season_of_summer_spring_winter_mx=[ mexico_summer_data['new_cases'].mean(),mexico_spring_data['new_cases'].mean(),mexico_winter_data['new_cases'].mean()]\n",
        "\n",
        "plt.subplot(1,5,2)\n",
        "\n",
        "plt.pie(cases_season_of_summer_spring_winter_mx,labels=mexico_season_of_covid,autopct='%1.1f%%')\n",
        "\n",
        "plt.axis('equal')\n",
        "plt.xlabel('Mexico')\n",
        "#****************************************************************************************\n",
        "Indonesia_season_of_covid=Indonesia_summer_data['season'].values[0],Indonesia_spring_data['season'].values[0],Indonesia_winter_data['season'].values[0]\n",
        "\n",
        "#we can use newcases or newcases2\n",
        "\n",
        "cases_season_of_summer_spring_winter_indo=[Indonesia_summer_data['new_cases'].mean(),Indonesia_spring_data['new_cases'].mean(),Indonesia_winter_data['new_cases'].mean()]\n",
        "\n",
        "plt.subplot(1,5,3)\n",
        "\n",
        "plt.pie(cases_season_of_summer_spring_winter_indo,labels=Indonesia_season_of_covid,autopct='%1.1f%%')\n",
        "\n",
        "plt.axis('equal')\n",
        "plt.xlabel('Indonesia')\n",
        "\n",
        "#*****************************************************************************************\n",
        "Philippines_season_of_covid=Philippines_summer_data['season'].values[0],Philippines_spring_data['season'].values[0],Philippines_winter_data['season'].values[0]\n",
        "\n",
        "#we can use newcases or newcases2\n",
        "\n",
        "cases_season_of_summer_spring_winter_ph=[Philippines_summer_data['new_cases'].mean(),Philippines_spring_data['new_cases'].mean(),Philippines_winter_data['new_cases'].mean()]\n",
        "\n",
        "plt.subplot(1,5,4)\n",
        "\n",
        "plt.pie(cases_season_of_summer_spring_winter_ph,labels=Philippines_season_of_covid,autopct='%1.1f%%')\n",
        "\n",
        "plt.axis('equal')\n",
        "plt.xlabel('Philippines')\n",
        "#*****************************************************************************************\n",
        "\n",
        "Vietnam_season_of_covid=Vietnam_summer_data['season'].values[0],Vietnam_spring_data['season'].values[0],Vietnam_winter_data['season'].values[0]\n",
        "\n",
        "#we can use newcases or newcases2\n",
        "\n",
        "cases_season_of_summer_spring_winter_vt=[Vietnam_summer_data['new_cases'].mean(),Vietnam_spring_data['new_cases'].mean(),Vietnam_winter_data['new_cases'].mean()]\n",
        "\n",
        "plt.subplot(1,5,5)\n",
        "\n",
        "plt.pie(cases_season_of_summer_spring_winter_vt,labels=Vietnam_season_of_covid,autopct='%1.1f%%')\n",
        "\n",
        "plt.axis('equal')\n",
        "plt.xlabel('Vietnam')\n",
        "\n",
        "#*****************************************************************************************\n",
        "#plt.legend(loc='lower right')\n",
        "plt.savefig('all the countrys rate of new cases.jpg')\n",
        "plt.show()"
      ]
    },
    {
      "cell_type": "code",
      "execution_count": null,
      "metadata": {
        "id": "blR8HWzcgjHn"
      },
      "outputs": [],
      "source": [
        "season='summer','spring','winter'\n",
        "\n",
        "#we can use newcases or newcases2\n",
        "\n",
        "newcases=[2298.20,3733.66,2161.66]\n",
        "\n",
        "totalcases2=[ bangladesh_summer_data['total_cases'].mean(),bangladesh_spring_data['total_cases'].mean(),bangladesh_winter_data['total_cases'].mean()]\n",
        "\n",
        "fig1, ax1=plt.subplots()\n",
        "\n",
        "ax1.pie(totalcases2,labels=season,autopct='%1.1f%%')\n",
        "ax1.axis('equal')\n",
        "plt.show()\n"
      ]
    },
    {
      "cell_type": "code",
      "execution_count": null,
      "metadata": {
        "id": "x1KhkBp5sY_N"
      },
      "outputs": [],
      "source": [
        "#season=[bangladesh_summer_data['location'],mexico_summer_data['location'],Indonesia_summer_data['location'],Philippines_summer_data['location'],Vietnam_summer_data['location']]\n",
        "country_LOCATION='bangladesh','mexico','indonesia','philippines','vietnam'\n",
        "#we can use newcases or newcases2\n",
        "\n",
        "newcases=[2298.20,3733.66,2161.66]\n",
        "\n",
        "newcases2=[ bangladesh_summer_data['new_cases'].mean(),mexico_summer_data['new_cases'].mean(),Indonesia_summer_data['new_cases'].mean(),Philippines_summer_data['new_cases'].mean(),Vietnam_summer_data['new_cases'].mean()]\n",
        "\n",
        "fig1, ax1=plt.subplots(figsize=(8,4))\n",
        "\n",
        "ax1.pie(newcases2,labels=country_LOCATION,autopct='%1.1f%%')\n",
        "ax1.axis('equal')\n",
        "\n",
        "plt.xlabel(' All country infection',size=15)\n",
        "plt.legend(loc='upper left',fontsize=12)\n",
        "\n",
        "plt.savefig('pie chart.jpg')\n",
        "\n",
        "plt.show()\n"
      ]
    },
    {
      "cell_type": "code",
      "execution_count": null,
      "metadata": {
        "id": "lJWeqxo_K30O"
      },
      "outputs": [],
      "source": [
        "plt.figure(figsize=(18,4))\n",
        "#There are two way to select country name, using values function and other is set funcetion .. in this location coloum there is same name so select the unique value i can use set and values function\n",
        "l_o_c=bangladesh_summer_data['location'].values[0],mexico_summer_data['location'].values[0],set(Indonesia_summer_data['location']),set(Philippines_summer_data['location']),set(Vietnam_summer_data['location'])\n",
        "#season2='bangladesh','mexico','indonesia','philippines','vietnam'\n",
        "#we can use newcases or newcases\n",
        "\n",
        "newcases=[2298.20,3733.66,2161.66]\n",
        "\n",
        "summer_season_mean=[ bangladesh_summer_data['new_cases'].sum(),mexico_summer_data['new_cases'].sum(),Indonesia_summer_data['new_cases'].sum(),Philippines_summer_data['new_cases'].sum(),Vietnam_summer_data['new_cases'].sum()]\n",
        "\n",
        "plt.subplot(1,3,1)\n",
        "\n",
        "\n",
        "\n",
        "plt.pie(summer_season_mean,labels=l_o_c,autopct='%1.1f%%')\n",
        "\n",
        "plt.xlabel('All country summer infection Percentage by mean')\n",
        "\n",
        "plt.axis('equal')\n",
        "\n",
        "\n",
        "\n",
        "#**********************************************************************#\n",
        "\n",
        "location_of_spring=bangladesh_spring_data['location'].values[0],mexico_spring_data['location'].values[0],set(Indonesia_spring_data['location']),set(Philippines_spring_data['location']),set(Vietnam_spring_data['location'])\n",
        "\n",
        "spring_season_mean=[ bangladesh_spring_data['new_cases'].sum(),mexico_spring_data['new_cases'].sum(),Indonesia_spring_data['new_cases'].sum(),Philippines_spring_data['new_cases'].sum(),Vietnam_spring_data['new_cases'].sum()]\n",
        "\n",
        "plt.subplot(1,3,2)\n",
        "\n",
        "\n",
        "\n",
        "plt.pie(spring_season_mean,labels=location_of_spring,autopct='%1.1f%%')\n",
        "\n",
        "plt.xlabel('All country spring infection Percentage by mean')\n",
        "\n",
        "plt.axis('equal')\n",
        "\n",
        "\n",
        "\n",
        "#*****************************************#\n",
        "\n",
        "location_of_winter=bangladesh_winter_data['location'].values[0],mexico_winter_data['location'].values[0],set(Indonesia_winter_data['location']),set(Philippines_winter_data['location']),set(Vietnam_winter_data['location'])\n",
        "\n",
        "winter_season_mean=[ bangladesh_winter_data['new_cases'].sum(),mexico_winter_data['new_cases'].sum(),Indonesia_winter_data['new_cases'].sum(),Philippines_winter_data['new_cases'].sum(),Vietnam_winter_data['new_cases'].sum()]\n",
        "\n",
        "plt.subplot(1,3,3)\n",
        "\n",
        "\n",
        "\n",
        "plt.pie(winter_season_mean,labels=location_of_winter,autopct='%1.1f%%')\n",
        "\n",
        "plt.xlabel('All country winter infection Percentage by mean')\n",
        "\n",
        "plt.axis('equal')\n",
        "\n",
        "#*******************************\n",
        "\n",
        "plt.savefig('season of Mostly infection month country.jpg')\n",
        "\n",
        "plt.show()\n"
      ]
    },
    {
      "cell_type": "code",
      "execution_count": null,
      "metadata": {
        "id": "3ChcNfB_r8yW"
      },
      "outputs": [],
      "source": [
        "bangladesh_spring_data['new_cases'].sum()"
      ]
    },
    {
      "cell_type": "code",
      "execution_count": null,
      "metadata": {
        "id": "kNzS7_peMJsp"
      },
      "outputs": [],
      "source": [
        "#season=[bangladesh_summer_data['location'],mexico_summer_data['location'],Indonesia_summer_data['location'],Philippines_summer_data['location'],Vietnam_summer_data['location']]\n",
        "#season"
      ]
    },
    {
      "cell_type": "code",
      "execution_count": null,
      "metadata": {
        "id": "PAzCdqXFe45Q"
      },
      "outputs": [],
      "source": [
        "#season=[bangladesh_summer_data['location'].any(),mexico_summer_data['location'].any()]\n",
        "#season"
      ]
    },
    {
      "cell_type": "code",
      "execution_count": null,
      "metadata": {
        "id": "5DSwP7M_MZyf"
      },
      "outputs": [],
      "source": [
        "#pridiction par will take place now\n"
      ]
    },
    {
      "cell_type": "code",
      "execution_count": null,
      "metadata": {
        "id": "llykxyFq6uPS"
      },
      "outputs": [],
      "source": [
        "new_bd_seasons=bd_seasons[['date','new_cases','T2M']]\n",
        "\n",
        "#new_bd_seasons = new_bd_seasons['date'].values.astype('datetime64[D]')\n",
        "#new_bd_seasons.date= pd.to_datetime(new_bd_seasons.date, format='%m/%d/%y')\n",
        "\n",
        "\n",
        "print(new_bd_seasons.dtypes)"
      ]
    },
    {
      "cell_type": "code",
      "execution_count": null,
      "metadata": {
        "id": "x7wC-xVbubPG"
      },
      "outputs": [],
      "source": [
        "#details about LSTM layer Units and all mecanism\n",
        "#'https://stackoverflow.com/questions/48714407/rnn-regularization-which-component-to-regularize/58868383#58868383'"
      ]
    },
    {
      "cell_type": "code",
      "execution_count": null,
      "metadata": {
        "id": "SP9V7slMUzQI"
      },
      "outputs": [],
      "source": [
        "\n",
        "import numpy as np\n",
        "from sklearn.preprocessing import MinMaxScaler\n",
        "from tensorflow.keras import Sequential\n",
        "from tensorflow.keras.layers import Dense, LSTM, Dropout\n",
        "from operator import add\n",
        "\n",
        "import numpy as np\n",
        "import pandas as ps\n",
        "import pandas_datareader.data as weather\n",
        "\n",
        "import tensorflow as tf\n",
        "\n",
        "from tensorflow import keras\n",
        "from tensorflow.keras import layers\n",
        "from operator import add\n"
      ]
    },
    {
      "cell_type": "code",
      "execution_count": null,
      "metadata": {
        "id": "Ag_8C5_z5u9Y"
      },
      "outputs": [],
      "source": [
        "data_training=new_bd_seasons[new_bd_seasons['date']<='2021-12-22'].copy()\n",
        "\n"
      ]
    },
    {
      "cell_type": "code",
      "execution_count": null,
      "metadata": {
        "id": "DKO2VzRmOv-3"
      },
      "outputs": [],
      "source": [
        "data_testing=new_bd_seasons[new_bd_seasons['date']>='2021-12-22'].copy()"
      ]
    },
    {
      "cell_type": "code",
      "execution_count": null,
      "metadata": {
        "id": "uNyFQwjGP31Y"
      },
      "outputs": [],
      "source": [
        "training_data=data_training.drop(['date'],axis=1)\n"
      ]
    },
    {
      "cell_type": "code",
      "execution_count": null,
      "metadata": {
        "id": "IlVnzrmKOaP4"
      },
      "outputs": [],
      "source": [
        "training_data"
      ]
    },
    {
      "cell_type": "code",
      "execution_count": null,
      "metadata": {
        "id": "4RxtFqEqQ0w3"
      },
      "outputs": [],
      "source": [
        "scaler=MinMaxScaler()\n",
        "training_data=scaler.fit_transform(training_data)"
      ]
    },
    {
      "cell_type": "code",
      "execution_count": null,
      "metadata": {
        "id": "E6VXFUjpRNK-"
      },
      "outputs": [],
      "source": [
        "X_train=[]\n",
        "y_train=[]\n"
      ]
    },
    {
      "cell_type": "code",
      "execution_count": null,
      "metadata": {
        "id": "0CA9BsikRYx6"
      },
      "outputs": [],
      "source": [
        "for i in range(60, training_data.shape[0]):\n",
        "    #tempx= training_data[0:60,1]\n",
        "    X_train.append(training_data[i-60:i])\n",
        "    y_train.append(training_data[i,0])\n",
        "    #y_train.append(training_data[i,1])\n",
        ""
      ]
    },
    {
      "cell_type": "code",
      "execution_count": null,
      "metadata": {
        "id": "KB4Udq2BfRbV"
      },
      "outputs": [],
      "source": [
        "#training_data.shape[0]"
      ]
    },
    {
      "cell_type": "code",
      "execution_count": null,
      "metadata": {
        "id": "mpCowd15SBPj"
      },
      "outputs": [],
      "source": [
        "X_train,y_train=np.array(X_train), np.array(y_train)"
      ]
    },
    {
      "cell_type": "code",
      "execution_count": null,
      "metadata": {
        "id": "5cLxeUuIwYrU"
      },
      "outputs": [],
      "source": [
        "#training_data[0:60]"
      ]
    },
    {
      "cell_type": "code",
      "execution_count": null,
      "metadata": {
        "id": "2Kjx6GvosNNt"
      },
      "outputs": [],
      "source": [
        "#training_data[0:640]"
      ]
    },
    {
      "cell_type": "code",
      "execution_count": null,
      "metadata": {
        "id": "GPToTf5gF2OS"
      },
      "outputs": [],
      "source": [
        "#X_train=np.reshape(X_train,(X_train.shape[0],X_train.shape[1],1))"
      ]
    },
    {
      "cell_type": "code",
      "execution_count": null,
      "metadata": {
        "id": "4HbupCZOszDq"
      },
      "outputs": [],
      "source": [
        "#training_data[i,0]"
      ]
    },
    {
      "cell_type": "code",
      "execution_count": null,
      "metadata": {
        "id": "N9t2M2otScSt"
      },
      "outputs": [],
      "source": [
        "#build LSTM\n"
      ]
    },
    {
      "cell_type": "code",
      "execution_count": null,
      "metadata": {
        "id": "xzwIk3cqv3Xm"
      },
      "outputs": [],
      "source": [
        "'''dropout: Float between 0 and 1. Fraction of the units to drop for the linear transformation of the inputs.\n",
        "\n",
        "recurrent_dropout: Float between 0 and 1. Fraction of the units to drop for the linear transformation of the recurrent state.'''"
      ]
    },
    {
      "cell_type": "code",
      "execution_count": null,
      "metadata": {
        "id": "yMsQYMHny8z7"
      },
      "outputs": [],
      "source": [
        "# W= weight , w1,w2,wn are the coefficient in regression model\n",
        "#when we use sigmaiod its a nonlinier\n",
        "#relu is linier\n",
        "# a straight line can be consider as linier, on the other hand curve or S shape can consider as non-linier"
      ]
    },
    {
      "cell_type": "code",
      "execution_count": null,
      "metadata": {
        "id": "voaEIdUB3SU5"
      },
      "outputs": [],
      "source": [
        "#from our data set we can see that our data of new cases is not only increasing but decrecesing again increasing so we can say that our\n",
        "#our data set is not linier input.\n",
        "#sigmaoid is used because 0 mean no 1 means yes"
      ]
    },
    {
      "cell_type": "code",
      "execution_count": null,
      "metadata": {
        "id": "aiKHV3qFS2u3"
      },
      "outputs": [],
      "source": [
        "from operator import add\n",
        "regressior= Sequential()\n",
        "regressior.add(LSTM(units=50, activation='relu', return_sequences=True, input_shape=(X_train.shape[1],2)))\n",
        "regressior.add(Dropout(0.2))\n",
        "\n",
        "regressior.add(LSTM(units=60, activation='relu', return_sequences=True))\n",
        "regressior.add(Dropout(0.2))\n",
        "#regressior.add(recurrent_dropout=0.2)\n",
        "\n",
        "regressior.add(LSTM(units=80, activation='relu', return_sequences=True))\n",
        "regressior.add(Dropout(0.2))\n",
        "\n",
        "#regressior.add(LSTM(units=100, activation='relu', return_sequences=True))\n",
        "#regressior.add(Dropout(0.2))\n",
        "\n",
        "regressior.add(LSTM(units=120, activation='relu'))\n",
        "regressior.add(Dropout(0.2))\n",
        "\n",
        "regressior.add(Dense(units=1))\n"
      ]
    },
    {
      "cell_type": "code",
      "execution_count": null,
      "metadata": {
        "id": "zvdLaSgBT4eB"
      },
      "outputs": [],
      "source": [
        "regressior.summary()"
      ]
    },
    {
      "cell_type": "code",
      "execution_count": null,
      "metadata": {
        "id": "KrGF2XCjVfnj"
      },
      "outputs": [],
      "source": [
        "regressior.compile(optimizer='adam', loss='mean_squared_logarithmic_error',metrics=['accuracy'])"
      ]
    },
    {
      "cell_type": "code",
      "execution_count": null,
      "metadata": {
        "id": "5LeqWmX_Vp4z"
      },
      "outputs": [],
      "source": [
        "regressior.fit(X_train,y_train,epochs=100, batch_size=32)"
      ]
    },
    {
      "cell_type": "code",
      "execution_count": null,
      "metadata": {
        "id": "aV_iI75wWMzk"
      },
      "outputs": [],
      "source": [
        "\n",
        "#prepare test data set\n"
      ]
    },
    {
      "cell_type": "code",
      "execution_count": null,
      "metadata": {
        "id": "BlwKfim3WtmA"
      },
      "outputs": [],
      "source": [
        "past_60_days= data_training.tail(60)"
      ]
    },
    {
      "cell_type": "code",
      "execution_count": null,
      "metadata": {
        "id": "QB-M8JEZ_Ddn"
      },
      "outputs": [],
      "source": [
        "df = past_60_days.append(data_testing, ignore_index=True)\n",
        "df"
      ]
    },
    {
      "cell_type": "code",
      "execution_count": null,
      "metadata": {
        "id": "CfoZv57GBOLs"
      },
      "outputs": [],
      "source": [
        "df= df.drop(['date'],axis=1)"
      ]
    },
    {
      "cell_type": "code",
      "execution_count": null,
      "metadata": {
        "id": "UNnLrLKfBgZ_"
      },
      "outputs": [],
      "source": [
        "inputs= scaler.transform(df)"
      ]
    },
    {
      "cell_type": "code",
      "execution_count": null,
      "metadata": {
        "id": "AuO3AA5vButJ"
      },
      "outputs": [],
      "source": [
        "X_test =[]\n",
        "y_test =[]\n",
        "\n",
        "for i in range(60,inputs.shape[0]):\n",
        "    X_test.append(inputs[i-60:i])\n",
        "    y_test.append(inputs[i,0])\n",
        ""
      ]
    },
    {
      "cell_type": "code",
      "execution_count": null,
      "metadata": {
        "id": "GxKZozLh8Cog"
      },
      "outputs": [],
      "source": [
        "inputs"
      ]
    },
    {
      "cell_type": "code",
      "execution_count": null,
      "metadata": {
        "id": "5uwRDdBnCpRW"
      },
      "outputs": [],
      "source": [
        "X_test, y_test = np.array(X_test), np.array(y_test)\n",
        "X_test.shape, y_test.shape"
      ]
    },
    {
      "cell_type": "code",
      "execution_count": null,
      "metadata": {
        "id": "jPHAr_IZDOQo"
      },
      "outputs": [],
      "source": [
        "y_pred= regressior.predict(X_test)"
      ]
    },
    {
      "cell_type": "code",
      "execution_count": null,
      "metadata": {
        "id": "wFmDeue_DeKw"
      },
      "outputs": [],
      "source": [
        "y_pred, y_test"
      ]
    },
    {
      "cell_type": "code",
      "execution_count": null,
      "metadata": {
        "id": "C8iMfIOMEtgR"
      },
      "outputs": [],
      "source": [
        "scaler.scale_"
      ]
    },
    {
      "cell_type": "code",
      "execution_count": null,
      "metadata": {
        "id": "hGWkX_UFE5B8"
      },
      "outputs": [],
      "source": [
        "scale=1/6.16142945e-05\n",
        "scale"
      ]
    },
    {
      "cell_type": "code",
      "execution_count": null,
      "metadata": {
        "id": "Ouoy9OrGFAVN"
      },
      "outputs": [],
      "source": [
        "y_pred= y_pred*scale\n",
        "y_test= y_test*scale"
      ]
    },
    {
      "cell_type": "code",
      "execution_count": null,
      "metadata": {
        "id": "9M0_6UmJc94J"
      },
      "outputs": [],
      "source": [
        "import math"
      ]
    },
    {
      "cell_type": "code",
      "execution_count": null,
      "metadata": {
        "id": "N74tu2bWf-rY"
      },
      "outputs": [],
      "source": [
        "Rmsle= np.sqrt((np.mean((((np.log(y_pred+1))-(np.log(y_test+1)))**2))))\n",
        "msle=np.mean((((np.log(y_pred+1))-(np.log(y_test+1)))**2))\n",
        "print(msle)\n",
        "print(Rmsle)"
      ]
    },
    {
      "cell_type": "code",
      "execution_count": null,
      "metadata": {
        "id": "Zwm-E4w8lz7R"
      },
      "outputs": [],
      "source": [
        "msle=np.mean((((np.log(y_pred+1))-(np.log(y_test+1)))**2))\n",
        "msle"
      ]
    },
    {
      "cell_type": "code",
      "execution_count": null,
      "metadata": {
        "id": "2369qH0SFSPI"
      },
      "outputs": [],
      "source": [
        "#visualization6.16142945e-05"
      ]
    },
    {
      "cell_type": "code",
      "execution_count": null,
      "metadata": {
        "id": "wEYDz1k4FbFM"
      },
      "outputs": [],
      "source": [
        "plt.figure(figsize=(8,4))\n",
        "\n",
        "plt.plot(y_test, color = 'red', label = 'Real new_case')\n",
        "plt.plot(y_pred, color='blue', label = 'prideicted new case')\n",
        "plt.title('Bangladesh new case pridiction')\n",
        "plt.xlabel('Days')\n",
        "plt.ylabel('New cases')\n",
        "plt.legend()\n",
        "plt.savefig('bangladesh new case pridiction(LSTM).jpg')\n",
        "plt.show()"
      ]
    },
    {
      "cell_type": "code",
      "execution_count": null,
      "metadata": {
        "id": "5UhbCJONHgmh"
      },
      "outputs": [],
      "source": []
    },
    {
      "cell_type": "code",
      "execution_count": null,
      "metadata": {
        "id": "5IzOEyGePCF4"
      },
      "outputs": [],
      "source": [
        "#Now we are going to use GRU\n"
      ]
    },
    {
      "cell_type": "code",
      "execution_count": null,
      "metadata": {
        "id": "NS3kbIRHWPfn"
      },
      "outputs": [],
      "source": [
        "\n",
        "import numpy as np\n",
        "import pandas as ps\n",
        "import pandas_datareader.data as weather\n",
        "\n",
        "import tensorflow as tf\n",
        "\n",
        "from tensorflow import keras\n",
        "from tensorflow.keras import layers\n"
      ]
    },
    {
      "cell_type": "code",
      "execution_count": null,
      "metadata": {
        "id": "6AapDbyVXqKe"
      },
      "outputs": [],
      "source": [
        "gru_new_bd_seasons=bd_seasons[['date', 'new_cases','T2M']]\n"
      ]
    },
    {
      "cell_type": "code",
      "execution_count": null,
      "metadata": {
        "id": "iu5sWfRPcjvy"
      },
      "outputs": [],
      "source": [
        "gru_data_training=gru_new_bd_seasons[gru_new_bd_seasons['date']<='2021-12-22'].copy()"
      ]
    },
    {
      "cell_type": "code",
      "execution_count": null,
      "metadata": {
        "id": "ihxAmHIfcyrT"
      },
      "outputs": [],
      "source": []
    },
    {
      "cell_type": "code",
      "execution_count": null,
      "metadata": {
        "id": "CTa3RIWGc20z"
      },
      "outputs": [],
      "source": [
        "gru_data_testing=gru_new_bd_seasons[gru_new_bd_seasons['date']>='2021-12-22'].copy()\n"
      ]
    },
    {
      "cell_type": "code",
      "execution_count": null,
      "metadata": {
        "id": "76ZzUJ0Hc6RO"
      },
      "outputs": [],
      "source": []
    },
    {
      "cell_type": "code",
      "execution_count": null,
      "metadata": {
        "id": "JVa1WsKNc_TW"
      },
      "outputs": [],
      "source": [
        "gru_training_data=gru_data_training.drop(['date'],axis=1)"
      ]
    },
    {
      "cell_type": "code",
      "execution_count": null,
      "metadata": {
        "id": "xNCWcp-zdCuO"
      },
      "outputs": [],
      "source": [
        "gru_scaler=MinMaxScaler()\n",
        "gru_training_data=gru_scaler.fit_transform(gru_training_data)"
      ]
    },
    {
      "cell_type": "code",
      "execution_count": null,
      "metadata": {
        "id": "YnjHJR5GdO5B"
      },
      "outputs": [],
      "source": [
        "gru_X_train=[]\n",
        "gru_y_train=[]\n"
      ]
    },
    {
      "cell_type": "code",
      "execution_count": null,
      "metadata": {
        "id": "tzRG1ak2dTlF"
      },
      "outputs": [],
      "source": [
        "for i in range(60, gru_training_data.shape[0]):\n",
        "    gru_X_train.append(gru_training_data[i-60:i])\n",
        "    gru_y_train.append(gru_training_data[i,0])\n",
        ""
      ]
    },
    {
      "cell_type": "code",
      "execution_count": null,
      "metadata": {
        "id": "10ATvYFIdjAY"
      },
      "outputs": [],
      "source": [
        "gru_training_data.shape[0]"
      ]
    },
    {
      "cell_type": "code",
      "execution_count": null,
      "metadata": {
        "id": "UorSS54odls0"
      },
      "outputs": [],
      "source": [
        "gru_X_train,gru_y_train=np.array(gru_X_train), np.array(gru_y_train)"
      ]
    },
    {
      "cell_type": "code",
      "execution_count": null,
      "metadata": {
        "id": "e4dcXEkrejDe"
      },
      "outputs": [],
      "source": [
        "gru_regressior= Sequential()\n",
        "gru_regressior.add(layers.GRU(units=50,activation='relu',  return_sequences=True, input_shape=(gru_X_train.shape[1],2)))\n",
        "gru_regressior.add(layers.Dropout(0.2))\n",
        "\n",
        "gru_regressior.add(layers.GRU(units=60, activation='relu', return_sequences=True))\n",
        "gru_regressior.add(layers.Dropout(0.2))\n",
        "\n",
        "gru_regressior.add(layers.GRU(units=80, activation='relu', return_sequences=True))\n",
        "gru_regressior.add(layers.Dropout(0.2))\n",
        "\n",
        "#gru_regressior.add(layers.GRU(units=100, activation='relu', return_sequences=True))\n",
        "#gru_regressior.add(layers.Dropout(0.2))\n",
        "\n",
        "gru_regressior.add(layers.GRU(units=120, activation='relu'))\n",
        "gru_regressior.add(layers.Dropout(0.2))\n",
        "\n",
        "gru_regressior.add(layers.Dense(units=1))\n"
      ]
    },
    {
      "cell_type": "code",
      "execution_count": null,
      "metadata": {
        "id": "VcLhdftHjQ5C"
      },
      "outputs": [],
      "source": [
        "gru_regressior.compile(optimizer='adam', loss='mean_squared_logarithmic_error',metrics=['accuracy'])"
      ]
    },
    {
      "cell_type": "code",
      "execution_count": null,
      "metadata": {
        "id": "yaLcDRI_jYkg"
      },
      "outputs": [],
      "source": [
        "gru_regressior.fit(gru_X_train,gru_y_train,epochs=100, batch_size=32)"
      ]
    },
    {
      "cell_type": "code",
      "execution_count": null,
      "metadata": {
        "id": "14vJsgvkkQCx"
      },
      "outputs": [],
      "source": []
    },
    {
      "cell_type": "code",
      "execution_count": null,
      "metadata": {
        "id": "LBaPhWsdkT_X"
      },
      "outputs": [],
      "source": [
        "#prepare test data set\n"
      ]
    },
    {
      "cell_type": "code",
      "execution_count": null,
      "metadata": {
        "id": "3fym_3YJkXSy"
      },
      "outputs": [],
      "source": [
        "gru_past_60_days= gru_data_training.tail(60)"
      ]
    },
    {
      "cell_type": "code",
      "execution_count": null,
      "metadata": {
        "id": "pVv_ukSOkxwo"
      },
      "outputs": [],
      "source": [
        "gru_df = gru_past_60_days.append(gru_data_testing, ignore_index=True)\n"
      ]
    },
    {
      "cell_type": "code",
      "execution_count": null,
      "metadata": {
        "id": "sMXGv_Wgk-de"
      },
      "outputs": [],
      "source": [
        "gru_df= gru_df.drop(['date'],axis=1)"
      ]
    },
    {
      "cell_type": "code",
      "execution_count": null,
      "metadata": {
        "id": "rRKrn63rlEiI"
      },
      "outputs": [],
      "source": [
        "gru_inputs= gru_scaler.transform(gru_df)"
      ]
    },
    {
      "cell_type": "code",
      "execution_count": null,
      "metadata": {
        "id": "POgl6uBTmYP5"
      },
      "outputs": [],
      "source": [
        "gru_X_test =[]\n",
        "gru_y_test =[]\n",
        "\n",
        "for i in range(60,gru_inputs.shape[0]):\n",
        "    gru_X_test.append(gru_inputs[i-60:i])\n",
        "    gru_y_test.append(gru_inputs[i,0])"
      ]
    },
    {
      "cell_type": "code",
      "execution_count": null,
      "metadata": {
        "id": "3pBXXwSgnarp"
      },
      "outputs": [],
      "source": [
        "gru_X_test, gru_y_test = np.array(gru_X_test), np.array(gru_y_test)\n",
        "gru_X_test.shape, gru_y_test.shape"
      ]
    },
    {
      "cell_type": "code",
      "execution_count": null,
      "metadata": {
        "id": "Bx0RU5nBnngd"
      },
      "outputs": [],
      "source": [
        "gru_y_pred= gru_regressior.predict(gru_X_test)"
      ]
    },
    {
      "cell_type": "code",
      "execution_count": null,
      "metadata": {
        "id": "9fdZZ7G5n038"
      },
      "outputs": [],
      "source": []
    },
    {
      "cell_type": "code",
      "execution_count": null,
      "metadata": {
        "id": "kSXiGYYJn1YW"
      },
      "outputs": [],
      "source": [
        "gru_scaler.scale_"
      ]
    },
    {
      "cell_type": "code",
      "execution_count": null,
      "metadata": {
        "id": "IqzwyEh3ke4w"
      },
      "outputs": [],
      "source": []
    },
    {
      "cell_type": "code",
      "execution_count": null,
      "metadata": {
        "id": "SVQe9nbi3rCu"
      },
      "outputs": [],
      "source": [
        "gru_scale=1/6.16142945e-05\n",
        "gru_scale"
      ]
    },
    {
      "cell_type": "code",
      "execution_count": null,
      "metadata": {
        "id": "Io7321k13ziH"
      },
      "outputs": [],
      "source": [
        "gru_y_pred= gru_y_pred*gru_scale\n",
        "gru_y_test= gru_y_test*gru_scale"
      ]
    },
    {
      "cell_type": "code",
      "execution_count": null,
      "metadata": {
        "id": "4yOMyIDY39QX"
      },
      "outputs": [],
      "source": [
        "Rmsle= np.sqrt((np.mean((((np.log(gru_y_pred+1))-(np.log(gru_y_test+1)))**2))))\n",
        "Rmsle"
      ]
    },
    {
      "cell_type": "code",
      "execution_count": null,
      "metadata": {
        "id": "kyGDhMXszBQY"
      },
      "outputs": [],
      "source": [
        "BD_Rmsle= np.sqrt((np.mean((((np.log(gru_y_pred+1))-(np.log(gru_y_test+1)))**2))))\n",
        "BD_msle=np.mean((((np.log(gru_y_pred+1))-(np.log(gru_y_test+1)))**2))\n",
        "print(BD_msle)\n",
        "print(BD_Rmsle)"
      ]
    },
    {
      "cell_type": "code",
      "execution_count": null,
      "metadata": {
        "id": "0l_UK0zP3_ja"
      },
      "outputs": [],
      "source": [
        "#visualization6.16142945e-05"
      ]
    },
    {
      "cell_type": "code",
      "execution_count": null,
      "metadata": {
        "id": "MLZhbv164Caq"
      },
      "outputs": [],
      "source": [
        "plt.figure(figsize=(10,3.5))\n",
        "plt.plot(gru_y_test, color = 'red', label = 'Real new_case')\n",
        "plt.plot(gru_y_pred, color='green', label = 'prideicted new case GRU')\n",
        "plt.plot(y_pred, color='blue', label = 'prideicted new case LSTM')\n",
        "plt.title('Bangladesh new case pridiction( GRU and LSTM model)')\n",
        "plt.xlabel('Days')\n",
        "plt.ylabel('New cases')\n",
        "plt.legend(fontsize=12)\n",
        "plt.savefig('bangladesh new case pridiction(GRU).jpg')\n",
        "plt.show()"
      ]
    },
    {
      "cell_type": "code",
      "execution_count": null,
      "metadata": {
        "id": "lbxnJ_Xm8PRA"
      },
      "outputs": [],
      "source": [
        "#maxico data model LSTM"
      ]
    },
    {
      "cell_type": "code",
      "execution_count": null,
      "metadata": {
        "id": "jsut8lN_b3aK"
      },
      "outputs": [],
      "source": [
        "new_mx_seasons=mx_seasons[['date', 'new_cases','T2M']]"
      ]
    },
    {
      "cell_type": "code",
      "execution_count": null,
      "metadata": {
        "id": "WlFZlHIOcgPV"
      },
      "outputs": [],
      "source": [
        "mx_data_training=new_mx_seasons[new_mx_seasons['date']<='2021-12-22'].copy()\n",
        "\n"
      ]
    },
    {
      "cell_type": "code",
      "execution_count": null,
      "metadata": {
        "id": "sqEUCpeDcrMr"
      },
      "outputs": [],
      "source": [
        "#mx_data_training=new_mx_seasons[new_mx_seasons['date']<='2022-01-22'].copy()\n",
        "\n"
      ]
    },
    {
      "cell_type": "code",
      "execution_count": null,
      "metadata": {
        "id": "FlDAf795OZPb"
      },
      "outputs": [],
      "source": [
        "mx_data_testing=new_mx_seasons[new_mx_seasons['date']>='2021-12-22'].copy()"
      ]
    },
    {
      "cell_type": "code",
      "execution_count": null,
      "metadata": {
        "id": "AlSbV3swdpsn"
      },
      "outputs": [],
      "source": [
        "mx_training_data=mx_data_training.drop(['date'],axis=1)"
      ]
    },
    {
      "cell_type": "code",
      "execution_count": null,
      "metadata": {
        "id": "rveZYRfQdJGw"
      },
      "outputs": [],
      "source": [
        "mx_scaler=MinMaxScaler()\n",
        "mx_training_data=mx_scaler.fit_transform(mx_training_data)"
      ]
    },
    {
      "cell_type": "code",
      "execution_count": null,
      "metadata": {
        "id": "F8njePeEdwEj"
      },
      "outputs": [],
      "source": [
        "mx_X_train=[]\n",
        "mx_y_train=[]\n"
      ]
    },
    {
      "cell_type": "code",
      "execution_count": null,
      "metadata": {
        "id": "5OFUtRNRd2IX"
      },
      "outputs": [],
      "source": [
        "for i in range(60, mx_training_data.shape[0]):\n",
        "    mx_X_train.append(mx_training_data[i-60:i])\n",
        "    mx_y_train.append(mx_training_data[i,0])\n",
        ""
      ]
    },
    {
      "cell_type": "code",
      "execution_count": null,
      "metadata": {
        "id": "Q2HtXvrbeDT7"
      },
      "outputs": [],
      "source": [
        "mx_X_train,mx_y_train=np.array(mx_X_train), np.array(mx_y_train)"
      ]
    },
    {
      "cell_type": "code",
      "execution_count": null,
      "metadata": {
        "id": "Dl31liaGeRSR"
      },
      "outputs": [],
      "source": [
        "\n",
        "mx_regressior= Sequential()\n",
        "mx_regressior.add(LSTM(units=100, activation='relu', return_sequences=True, input_shape=(mx_X_train.shape[1],2)))\n",
        "mx_regressior.add(Dropout(0.2))\n",
        "\n",
        "mx_regressior.add(LSTM(units=120, activation='relu', return_sequences=True))\n",
        "mx_regressior.add(Dropout(0.2))\n",
        "\n",
        "mx_regressior.add(LSTM(units=160, activation='relu', return_sequences=True))\n",
        "mx_regressior.add(Dropout(0.2))\n",
        "\n",
        "#mx_regressior.add(LSTM(units=100, activation='relu', return_sequences=True))\n",
        "#mx_regressior.add(Dropout(0.1))\n",
        "\n",
        "mx_regressior.add(LSTM(units=200, activation='relu'))\n",
        "mx_regressior.add(Dropout(0.2))\n",
        "\n",
        "mx_regressior.add(Dense(units=1))\n"
      ]
    },
    {
      "cell_type": "code",
      "execution_count": null,
      "metadata": {
        "id": "fBQnhnVz1vjX"
      },
      "outputs": [],
      "source": [
        "#adam optimizer is improve loss of a function in optimizer there is paper given. In adam there is learing rate (a screeshot is taken)for more details(https://www.youtube.com/watch?v=JhQqquVeCE0)"
      ]
    },
    {
      "cell_type": "code",
      "execution_count": null,
      "metadata": {
        "id": "sY7jDYzOgQYV"
      },
      "outputs": [],
      "source": [
        "mx_regressior.compile(optimizer='adam', loss='mean_squared_logarithmic_error')\n"
      ]
    },
    {
      "cell_type": "code",
      "execution_count": null,
      "metadata": {
        "id": "cMHjoFpEMAKk"
      },
      "outputs": [],
      "source": [
        "mx_regressior.fit(mx_X_train,mx_y_train,epochs=100, batch_size=32)"
      ]
    },
    {
      "cell_type": "code",
      "execution_count": null,
      "metadata": {
        "id": "L7N00k4pMDYi"
      },
      "outputs": [],
      "source": [
        "mx_past_60_days= mx_data_training.tail(60)"
      ]
    },
    {
      "cell_type": "code",
      "execution_count": null,
      "metadata": {
        "id": "DuLxnaRMMImp"
      },
      "outputs": [],
      "source": [
        "mx_df = mx_past_60_days.append(mx_data_testing, ignore_index=True)\n",
        "mx_df"
      ]
    },
    {
      "cell_type": "code",
      "execution_count": null,
      "metadata": {
        "id": "kCDuiStYMP4O"
      },
      "outputs": [],
      "source": [
        "#......................\n",
        "mx_df= mx_df.drop(['date'],axis=1)"
      ]
    },
    {
      "cell_type": "code",
      "execution_count": null,
      "metadata": {
        "id": "qzBrIAAtMQ4D"
      },
      "outputs": [],
      "source": [
        "\n",
        "\n",
        "mx_inputs= mx_scaler.transform(mx_df)"
      ]
    },
    {
      "cell_type": "code",
      "execution_count": null,
      "metadata": {
        "id": "KHFcW8NmMZDF"
      },
      "outputs": [],
      "source": [
        "mx_X_test =[]\n",
        "mx_y_test =[]\n",
        "\n",
        "for i in range(60,mx_inputs.shape[0]):\n",
        "    mx_X_test.append(mx_inputs[i-60:i])\n",
        "    mx_y_test.append(mx_inputs[i,0])"
      ]
    },
    {
      "cell_type": "code",
      "execution_count": null,
      "metadata": {
        "id": "xMVgrPVCMby5"
      },
      "outputs": [],
      "source": [
        "mx_X_test, mx_y_test = np.array(mx_X_test), np.array(mx_y_test)\n",
        "mx_X_test.shape, mx_y_test.shape"
      ]
    },
    {
      "cell_type": "code",
      "execution_count": null,
      "metadata": {
        "id": "k58JLxQmMcpn"
      },
      "outputs": [],
      "source": [
        "mx_y_pred= mx_regressior.predict(mx_X_test)"
      ]
    },
    {
      "cell_type": "code",
      "execution_count": null,
      "metadata": {
        "id": "O5W4_5XiMiCk"
      },
      "outputs": [],
      "source": [
        "mx_y_pred, mx_y_test"
      ]
    },
    {
      "cell_type": "code",
      "execution_count": null,
      "metadata": {
        "id": "6adoxHY0Mksh"
      },
      "outputs": [],
      "source": [
        "mx_scaler.scale_"
      ]
    },
    {
      "cell_type": "code",
      "execution_count": null,
      "metadata": {
        "id": "d4NJVzF6MnWG"
      },
      "outputs": [],
      "source": [
        "mx_scale=1/3.10135219e-05"
      ]
    },
    {
      "cell_type": "code",
      "execution_count": null,
      "metadata": {
        "id": "ztci_s2xNKUY"
      },
      "outputs": [],
      "source": []
    },
    {
      "cell_type": "code",
      "execution_count": null,
      "metadata": {
        "id": "02j9s1erMqPl"
      },
      "outputs": [],
      "source": [
        "mx_y_pred= mx_y_pred*mx_scale\n",
        "mx_y_test= mx_y_test*mx_scale"
      ]
    },
    {
      "cell_type": "code",
      "execution_count": null,
      "metadata": {
        "id": "zoMPGKVbzqHx"
      },
      "outputs": [],
      "source": [
        "mx_Rmsle= np.sqrt((np.mean((((np.log(mx_y_pred+1))-(np.log(mx_y_test+1)))**2))))\n",
        "mx_msle=np.mean((((np.log(mx_y_pred+1))-(np.log(mx_y_test+1)))**2))\n",
        "print(mx_Rmsle)\n",
        "print(mx_msle)"
      ]
    },
    {
      "cell_type": "code",
      "execution_count": null,
      "metadata": {
        "id": "KhHcOCdZMw1c"
      },
      "outputs": [],
      "source": [
        "plt.figure(figsize=(8,4))\n",
        "plt.plot(mx_y_test, color = 'red', label = 'Real new_case')\n",
        "plt.plot(mx_y_pred, color='blue', label = 'prideicted new case')\n",
        "plt.title('maxico new case pridiction')\n",
        "plt.xlabel('Day')\n",
        "plt.ylabel('New cases')\n",
        "plt.legend()\n",
        "plt.savefig('Maxico new case pridiction(LSTM).jpg')\n",
        "plt.show()\n"
      ]
    },
    {
      "cell_type": "code",
      "execution_count": null,
      "metadata": {
        "id": "pBnux99oNHGu"
      },
      "outputs": [],
      "source": [
        "#maxico GRU mode"
      ]
    },
    {
      "cell_type": "code",
      "execution_count": null,
      "metadata": {
        "id": "U4kalXhRNHqV"
      },
      "outputs": [],
      "source": [
        "mx_gru_new_seasons=mx_seasons[['date', 'new_cases','T2M']]"
      ]
    },
    {
      "cell_type": "code",
      "execution_count": null,
      "metadata": {
        "id": "eTUmSm9_NLb4"
      },
      "outputs": [],
      "source": [
        "mx_gru_data_training=mx_gru_new_seasons[mx_gru_new_seasons['date']<='2021-12-22'].copy()"
      ]
    },
    {
      "cell_type": "code",
      "execution_count": null,
      "metadata": {
        "id": "OkOmuL69NUzK"
      },
      "outputs": [],
      "source": [
        "mx_gru_data_testing=mx_gru_new_seasons[mx_gru_new_seasons['date']>='2021-12-22'].copy()"
      ]
    },
    {
      "cell_type": "code",
      "execution_count": null,
      "metadata": {
        "id": "VQQuX-LJNYBu"
      },
      "outputs": [],
      "source": [
        "mx_gru_training_data=mx_gru_data_training.drop(['date'],axis=1)"
      ]
    },
    {
      "cell_type": "code",
      "execution_count": null,
      "metadata": {
        "id": "kje2vmSrNaQN"
      },
      "outputs": [],
      "source": [
        "\n",
        "mx_gru_scaler=MinMaxScaler()\n",
        "mx_gru_training_data=mx_gru_scaler.fit_transform(mx_gru_training_data)"
      ]
    },
    {
      "cell_type": "code",
      "execution_count": null,
      "metadata": {
        "id": "iTgqWR5RNbJc"
      },
      "outputs": [],
      "source": [
        "mx_gru_X_train=[]\n",
        "mx_gru_y_train=[]"
      ]
    },
    {
      "cell_type": "code",
      "execution_count": null,
      "metadata": {
        "id": "gk289V-jNdwK"
      },
      "outputs": [],
      "source": [
        "for i in range(60, mx_gru_training_data.shape[0]):\n",
        "    mx_gru_X_train.append(mx_gru_training_data[i-60:i])\n",
        "    mx_gru_y_train.append(mx_gru_training_data[i,0])"
      ]
    },
    {
      "cell_type": "code",
      "execution_count": null,
      "metadata": {
        "id": "A_i2CoVvNjLu"
      },
      "outputs": [],
      "source": [
        "\n",
        "\n",
        "mx_gru_X_train,mx_gru_y_train=np.array(mx_gru_X_train), np.array(mx_gru_y_train)"
      ]
    },
    {
      "cell_type": "code",
      "execution_count": null,
      "metadata": {
        "id": "hD09PTqkNnTY"
      },
      "outputs": [],
      "source": [
        "mx_gru_regressior= Sequential()\n",
        "mx_gru_regressior.add(layers.GRU(units=100, activation='relu', return_sequences=True, input_shape=(mx_gru_X_train.shape[1],2)))\n",
        "mx_gru_regressior.add(layers.Dropout(0.2))\n",
        "\n",
        "mx_gru_regressior.add(layers.GRU(units=120, activation='relu', return_sequences=True))\n",
        "mx_gru_regressior.add(layers.Dropout(0.2))\n",
        "\n",
        "mx_gru_regressior.add(layers.GRU(units=160, activation='relu', return_sequences=True))\n",
        "mx_gru_regressior.add(layers.Dropout(0.2))\n",
        "\n",
        "#gru_regressior.add(layers.GRU(units=100, activation='relu', return_sequences=True))\n",
        "#gru_regressior.add(layers.Dropout(0.2))\n",
        "\n",
        "mx_gru_regressior.add(layers.GRU(units=200, activation='relu'))\n",
        "mx_gru_regressior.add(layers.Dropout(0.2))\n",
        "\n",
        "mx_gru_regressior.add(layers.Dense(units=1))\n"
      ]
    },
    {
      "cell_type": "code",
      "execution_count": null,
      "metadata": {
        "id": "n4l_dCQUNqfM"
      },
      "outputs": [],
      "source": [
        "mx_gru_regressior.compile(optimizer='adam', loss='mean_squared_logarithmic_error')"
      ]
    },
    {
      "cell_type": "code",
      "execution_count": null,
      "metadata": {
        "id": "UYKqH1t1NtMJ"
      },
      "outputs": [],
      "source": [
        "mx_gru_regressior.fit(mx_gru_X_train,mx_gru_y_train,epochs=100, batch_size=32)"
      ]
    },
    {
      "cell_type": "code",
      "execution_count": null,
      "metadata": {
        "id": "htHiEI1zNyR9"
      },
      "outputs": [],
      "source": [
        "mx_gru_past_60_days= mx_gru_data_training.tail(60)"
      ]
    },
    {
      "cell_type": "code",
      "execution_count": null,
      "metadata": {
        "id": "-I5mGkSpN0yg"
      },
      "outputs": [],
      "source": [
        "mx_gru_df = mx_gru_past_60_days.append(mx_gru_data_testing, ignore_index=True)"
      ]
    },
    {
      "cell_type": "code",
      "execution_count": null,
      "metadata": {
        "id": "fMc2pqANN4vh"
      },
      "outputs": [],
      "source": [
        "mx_gru_df= mx_gru_df.drop(['date'],axis=1)"
      ]
    },
    {
      "cell_type": "code",
      "execution_count": null,
      "metadata": {
        "id": "RfmBFMY-N5bo"
      },
      "outputs": [],
      "source": [
        "mx_gru_inputs= mx_gru_scaler.transform(mx_gru_df)"
      ]
    },
    {
      "cell_type": "code",
      "execution_count": null,
      "metadata": {
        "id": "k3V4HMVEN77D"
      },
      "outputs": [],
      "source": [
        "mx_gru_X_test =[]\n",
        "mx_gru_y_test =[]\n",
        "\n",
        "for i in range(60,mx_gru_inputs.shape[0]):\n",
        "    mx_gru_X_test.append(mx_gru_inputs[i-60:i])\n",
        "    mx_gru_y_test.append(mx_gru_inputs[i,0])"
      ]
    },
    {
      "cell_type": "code",
      "execution_count": null,
      "metadata": {
        "id": "VG3STHZiN-j2"
      },
      "outputs": [],
      "source": [
        "mx_gru_X_test, mx_gru_y_test = np.array(mx_gru_X_test), np.array(mx_gru_y_test)\n",
        "mx_gru_X_test.shape, mx_gru_y_test.shape"
      ]
    },
    {
      "cell_type": "code",
      "execution_count": null,
      "metadata": {
        "id": "W5oMNAZSOCEy"
      },
      "outputs": [],
      "source": [
        "mx_gru_y_pred= mx_gru_regressior.predict(mx_gru_X_test)"
      ]
    },
    {
      "cell_type": "code",
      "execution_count": null,
      "metadata": {
        "id": "9OfSOZZTOEsp"
      },
      "outputs": [],
      "source": [
        "mx_gru_scaler.scale_"
      ]
    },
    {
      "cell_type": "code",
      "execution_count": null,
      "metadata": {
        "id": "ZEpOzGZWOHZZ"
      },
      "outputs": [],
      "source": [
        "\n",
        "mx_gru_scale=1/3.10135219e-05\n",
        "mx_gru_scale"
      ]
    },
    {
      "cell_type": "code",
      "execution_count": null,
      "metadata": {
        "id": "j1mleXdLOLUp"
      },
      "outputs": [],
      "source": [
        "mx_gru_y_pred= mx_gru_y_pred*mx_gru_scale\n",
        "mx_gru_y_test= mx_gru_y_test*mx_gru_scale"
      ]
    },
    {
      "cell_type": "code",
      "execution_count": null,
      "metadata": {
        "id": "FasAfymJ0DT-"
      },
      "outputs": [],
      "source": [
        "mx_gru_Rmsle= np.sqrt((np.mean((((np.log(mx_gru_y_pred+1))-(np.log(mx_gru_y_test+1)))**2))))\n",
        "mx_gru_msle=np.mean((((np.log(mx_gru_y_pred+1))-(np.log(mx_gru_y_test+1)))**2))\n",
        "print(mx_gru_Rmsle)\n",
        "print(mx_gru_msle)"
      ]
    },
    {
      "cell_type": "code",
      "execution_count": null,
      "metadata": {
        "id": "Ka_EEDVrON3_"
      },
      "outputs": [],
      "source": [
        "\n",
        "plt.figure(figsize=(10,3.5))\n",
        "plt.plot(mx_gru_y_test, color = 'red', label = 'Real new_case')\n",
        "plt.plot(mx_gru_y_pred, color='green', label = 'prideicted new case GRU')\n",
        "plt.plot(mx_y_pred, color='blue', label = 'prideicted new case LSTM')\n",
        "plt.title('maxico new case pridiction(GRU and LSTM Model)')\n",
        "plt.xlabel('day')\n",
        "plt.ylabel('New cases')\n",
        "plt.legend(fontsize=12)\n",
        "plt.savefig('Maxico new case pridiction(GRU).jpg')\n",
        "plt.show()"
      ]
    },
    {
      "cell_type": "code",
      "execution_count": null,
      "metadata": {
        "id": "ZWWcI5iBO6ee"
      },
      "outputs": [],
      "source": [
        "\n",
        "\n",
        "\n"
      ]
    },
    {
      "cell_type": "code",
      "execution_count": null,
      "metadata": {
        "id": "dwId4WqYoI7I"
      },
      "outputs": [],
      "source": [
        "# indonasia data model LSTM"
      ]
    },
    {
      "cell_type": "code",
      "execution_count": null,
      "metadata": {
        "id": "l8bM_PaQoI7P"
      },
      "outputs": [],
      "source": [
        "new_indo_seasons=indo_seasons[['date', 'new_cases','T2M']]"
      ]
    },
    {
      "cell_type": "code",
      "execution_count": null,
      "metadata": {
        "id": "kE0nhU8foI7R"
      },
      "outputs": [],
      "source": [
        "indo_data_training=new_indo_seasons[new_indo_seasons['date']<='2021-12-22'].copy()\n",
        "\n"
      ]
    },
    {
      "cell_type": "code",
      "execution_count": null,
      "metadata": {
        "id": "zsUMZcQuoI7R"
      },
      "outputs": [],
      "source": [
        "indo_data_testing=new_indo_seasons[new_indo_seasons['date']>='2021-12-22'].copy()"
      ]
    },
    {
      "cell_type": "code",
      "execution_count": null,
      "metadata": {
        "id": "67HlLUpOoI7S"
      },
      "outputs": [],
      "source": [
        "indo_training_data=indo_data_training.drop(['date'],axis=1)"
      ]
    },
    {
      "cell_type": "code",
      "execution_count": null,
      "metadata": {
        "id": "AJsKvrQFoI7S"
      },
      "outputs": [],
      "source": [
        "indo_scaler=MinMaxScaler()\n",
        "indo_training_data=indo_scaler.fit_transform(indo_training_data)"
      ]
    },
    {
      "cell_type": "code",
      "execution_count": null,
      "metadata": {
        "id": "jbbJHOIooI7S"
      },
      "outputs": [],
      "source": [
        "indo_X_train=[]\n",
        "indo_y_train=[]\n"
      ]
    },
    {
      "cell_type": "code",
      "execution_count": null,
      "metadata": {
        "id": "48XwMYproI7T"
      },
      "outputs": [],
      "source": [
        "for i in range(60, indo_training_data.shape[0]):\n",
        "    indo_X_train.append(indo_training_data[i-60:i])\n",
        "    indo_y_train.append(indo_training_data[i,0])\n",
        ""
      ]
    },
    {
      "cell_type": "code",
      "execution_count": null,
      "metadata": {
        "id": "uyvORq71oI7T"
      },
      "outputs": [],
      "source": [
        "indo_X_train,indo_y_train=np.array(indo_X_train), np.array(indo_y_train)"
      ]
    },
    {
      "cell_type": "code",
      "execution_count": null,
      "metadata": {
        "id": "TEYnn8dfoI7T"
      },
      "outputs": [],
      "source": [
        "indo_regressior= Sequential()\n",
        "indo_regressior.add(LSTM(units=50, activation='relu', return_sequences=True, input_shape=(indo_X_train.shape[1],2)))\n",
        "indo_regressior.add(Dropout(0.2))\n",
        "\n",
        "indo_regressior.add(LSTM(units=60, activation='relu', return_sequences=True))\n",
        "indo_regressior.add(Dropout(0.2))\n",
        "\n",
        "indo_regressior.add(LSTM(units=80, activation='relu', return_sequences=True))\n",
        "indo_regressior.add(Dropout(0.2))\n",
        "\n",
        "#regressior.add(LSTM(units=100, activation='relu', return_sequences=True))\n",
        "#regressior.add(Dropout(0.2))\n",
        "\n",
        "indo_regressior.add(LSTM(units=120, activation='relu'))\n",
        "indo_regressior.add(Dropout(0.2))\n",
        "\n",
        "indo_regressior.add(Dense(units=1))\n"
      ]
    },
    {
      "cell_type": "code",
      "execution_count": null,
      "metadata": {
        "id": "gSPbnyYzoI7U"
      },
      "outputs": [],
      "source": [
        "indo_regressior.compile(optimizer='adam', loss='mean_squared_logarithmic_error')\n"
      ]
    },
    {
      "cell_type": "code",
      "execution_count": null,
      "metadata": {
        "id": "MCDzQbxEoI7U"
      },
      "outputs": [],
      "source": [
        "indo_regressior.fit(indo_X_train,indo_y_train,epochs=100, batch_size=32)"
      ]
    },
    {
      "cell_type": "code",
      "execution_count": null,
      "metadata": {
        "id": "roRLpDR0oI7V"
      },
      "outputs": [],
      "source": [
        "indo_past_60_days= indo_data_training.tail(60)"
      ]
    },
    {
      "cell_type": "code",
      "execution_count": null,
      "metadata": {
        "id": "TZmg-SZSoI7V"
      },
      "outputs": [],
      "source": [
        "indo_df = indo_past_60_days.append(indo_data_testing, ignore_index=True)\n",
        "indo_df"
      ]
    },
    {
      "cell_type": "code",
      "execution_count": null,
      "metadata": {
        "id": "pBx56jUMoI7W"
      },
      "outputs": [],
      "source": [
        "indo_df= indo_df.drop(['date'],axis=1)"
      ]
    },
    {
      "cell_type": "code",
      "execution_count": null,
      "metadata": {
        "id": "lXK5fznZoI7W"
      },
      "outputs": [],
      "source": [
        "indo_inputs= indo_scaler.transform(indo_df)"
      ]
    },
    {
      "cell_type": "code",
      "execution_count": null,
      "metadata": {
        "id": "LfwsXEnloI7X"
      },
      "outputs": [],
      "source": [
        "indo_X_test =[]\n",
        "indo_y_test =[]\n",
        "\n",
        "for i in range(60,indo_inputs.shape[0]):\n",
        "    indo_X_test.append(indo_inputs[i-60:i])\n",
        "    indo_y_test.append(indo_inputs[i,0])"
      ]
    },
    {
      "cell_type": "code",
      "execution_count": null,
      "metadata": {
        "id": "OnJ3Plq-oI7X"
      },
      "outputs": [],
      "source": [
        "indo_X_test, indo_y_test = np.array(indo_X_test), np.array(indo_y_test)\n",
        "indo_X_test.shape, indo_y_test.shape"
      ]
    },
    {
      "cell_type": "code",
      "execution_count": null,
      "metadata": {
        "id": "Nv9FaYB6oI7Y"
      },
      "outputs": [],
      "source": [
        "indo_y_pred= indo_regressior.predict(indo_X_test)"
      ]
    },
    {
      "cell_type": "code",
      "execution_count": null,
      "metadata": {
        "id": "VHFPQcLJoI7Y"
      },
      "outputs": [],
      "source": [
        "indo_y_pred, indo_y_test"
      ]
    },
    {
      "cell_type": "code",
      "execution_count": null,
      "metadata": {
        "id": "FIBWg4HioI7Z"
      },
      "outputs": [],
      "source": [
        "indo_scaler.scale_"
      ]
    },
    {
      "cell_type": "code",
      "execution_count": null,
      "metadata": {
        "id": "4DRw7M7ooI7Z"
      },
      "outputs": [],
      "source": [
        "indo_scale=1/1.76189721e-05\n",
        "indo_scale"
      ]
    },
    {
      "cell_type": "code",
      "execution_count": null,
      "metadata": {
        "id": "mr8KA7KNoI7a"
      },
      "outputs": [],
      "source": [
        "indo_y_pred= indo_y_pred*indo_scale\n",
        "indo_y_test= indo_y_test*indo_scale"
      ]
    },
    {
      "cell_type": "code",
      "execution_count": null,
      "metadata": {
        "id": "4NdHEOg3izpJ"
      },
      "outputs": [],
      "source": [
        "scores = indo_regressior.evaluate(indo_X_test, indo_y_test, verbose=0)\n",
        "scores\n",
        "#print(\"Accuracy: %.2f%%\" % (scores[1]*100))"
      ]
    },
    {
      "cell_type": "code",
      "execution_count": null,
      "metadata": {
        "id": "85VXgP2p0iXT"
      },
      "outputs": [],
      "source": [
        "indo_Rmsle= np.sqrt((np.mean((((np.log(indo_y_pred+1))-(np.log(indo_y_test+1)))**2))))\n",
        "indo_msle=np.mean((((np.log(indo_y_pred+1))-(np.log(indo_y_test+1)))**2))\n",
        "print(indo_Rmsle)\n",
        "print(indo_msle)"
      ]
    },
    {
      "cell_type": "code",
      "execution_count": null,
      "metadata": {
        "id": "Fxf7buPYoI7a"
      },
      "outputs": [],
      "source": [
        "plt.figure(figsize=(8,4))\n",
        "plt.plot(indo_y_test, color = 'red', label = 'Real new_case')\n",
        "plt.plot(indo_y_pred, color='blue', label = 'prideicted new case')\n",
        "plt.title('indonasia new case pridiction(LSTM)')\n",
        "plt.xlabel('Days')\n",
        "plt.ylabel('New cases')\n",
        "plt.legend()\n",
        "plt.savefig('Indonasia new case pridiction(LSTM).jpg')\n",
        "plt.show()\n"
      ]
    },
    {
      "cell_type": "code",
      "execution_count": null,
      "metadata": {
        "id": "5cDyxAO4pO7D"
      },
      "outputs": [],
      "source": [
        "#Indonasia GRU mode"
      ]
    },
    {
      "cell_type": "code",
      "execution_count": null,
      "metadata": {
        "id": "o4tL3PXWpO7F"
      },
      "outputs": [],
      "source": [
        "indo_gru_new_seasons=indo_seasons[['date', 'new_cases','T2M']]"
      ]
    },
    {
      "cell_type": "code",
      "execution_count": null,
      "metadata": {
        "id": "sQRwCDlZpO7G"
      },
      "outputs": [],
      "source": [
        "indo_gru_data_training=indo_gru_new_seasons[indo_gru_new_seasons['date']<='2021-12-22'].copy()"
      ]
    },
    {
      "cell_type": "code",
      "execution_count": null,
      "metadata": {
        "id": "h4a4_x8lpO7I"
      },
      "outputs": [],
      "source": [
        "indo_gru_data_testing=indo_gru_new_seasons[indo_gru_new_seasons['date']>='2021-12-22'].copy()"
      ]
    },
    {
      "cell_type": "code",
      "execution_count": null,
      "metadata": {
        "id": "h_uW6vJUpO7J"
      },
      "outputs": [],
      "source": [
        "indo_gru_training_data=indo_gru_data_training.drop(['date'],axis=1)"
      ]
    },
    {
      "cell_type": "code",
      "execution_count": null,
      "metadata": {
        "id": "1G-UDdXVpO7L"
      },
      "outputs": [],
      "source": [
        "indo_gru_scaler=MinMaxScaler()\n",
        "indo_gru_training_data=indo_gru_scaler.fit_transform(indo_gru_training_data)"
      ]
    },
    {
      "cell_type": "code",
      "execution_count": null,
      "metadata": {
        "id": "OPkGW-udpO7M"
      },
      "outputs": [],
      "source": [
        "indo_gru_X_train=[]\n",
        "indo_gru_y_train=[]"
      ]
    },
    {
      "cell_type": "code",
      "execution_count": null,
      "metadata": {
        "id": "AgO_l2s8pO7N"
      },
      "outputs": [],
      "source": [
        "for i in range(60, indo_gru_training_data.shape[0]):\n",
        "    indo_gru_X_train.append(indo_gru_training_data[i-60:i])\n",
        "    indo_gru_y_train.append(indo_gru_training_data[i,0])"
      ]
    },
    {
      "cell_type": "code",
      "execution_count": null,
      "metadata": {
        "id": "B24KS4kRpO7O"
      },
      "outputs": [],
      "source": [
        "indo_gru_X_train,indo_gru_y_train=np.array(indo_gru_X_train), np.array(indo_gru_y_train)"
      ]
    },
    {
      "cell_type": "code",
      "execution_count": null,
      "metadata": {
        "id": "glORN1FVpO7Q"
      },
      "outputs": [],
      "source": [
        "indo_gru_regressior= Sequential()\n",
        "indo_gru_regressior.add(layers.GRU(units=50, activation='relu', return_sequences=True, input_shape=(indo_gru_X_train.shape[1],2)))\n",
        "indo_gru_regressior.add(layers.Dropout(0.2))\n",
        "\n",
        "indo_gru_regressior.add(layers.GRU(units=60, activation='relu', return_sequences=True))\n",
        "indo_gru_regressior.add(layers.Dropout(0.2))\n",
        "\n",
        "indo_gru_regressior.add(layers.GRU(units=80, activation='relu', return_sequences=True))\n",
        "indo_gru_regressior.add(layers.Dropout(0.2))\n",
        "\n",
        "#gru_regressior.add(layers.GRU(units=100, activation='relu', return_sequences=True))\n",
        "#gru_regressior.add(layers.Dropout(0.2))\n",
        "\n",
        "indo_gru_regressior.add(layers.GRU(units=120, activation='relu'))\n",
        "indo_gru_regressior.add(layers.Dropout(0.2))\n",
        "\n",
        "indo_gru_regressior.add(layers.Dense(units=1))\n"
      ]
    },
    {
      "cell_type": "code",
      "execution_count": null,
      "metadata": {
        "id": "gckZbCkwpO7S"
      },
      "outputs": [],
      "source": [
        "indo_gru_regressior.compile(optimizer='adam', loss='mean_squared_logarithmic_error')"
      ]
    },
    {
      "cell_type": "code",
      "execution_count": null,
      "metadata": {
        "id": "uKzLnmI7pO7U"
      },
      "outputs": [],
      "source": [
        "indo_gru_regressior.fit(indo_gru_X_train,indo_gru_y_train,epochs=100, batch_size=32)"
      ]
    },
    {
      "cell_type": "code",
      "execution_count": null,
      "metadata": {
        "id": "odZkNBTspO7V"
      },
      "outputs": [],
      "source": [
        "indo_gru_past_30_days= indo_gru_data_training.tail(60)"
      ]
    },
    {
      "cell_type": "code",
      "execution_count": null,
      "metadata": {
        "id": "q05LZkhdpO7X"
      },
      "outputs": [],
      "source": [
        "indo_gru_df = indo_gru_past_30_days.append(indo_gru_data_testing, ignore_index=True)"
      ]
    },
    {
      "cell_type": "code",
      "execution_count": null,
      "metadata": {
        "id": "ntlg7wWPpO7Y"
      },
      "outputs": [],
      "source": [
        "indo_gru_df= indo_gru_df.drop(['date'],axis=1)"
      ]
    },
    {
      "cell_type": "code",
      "execution_count": null,
      "metadata": {
        "id": "TvNf7XISpO7Z"
      },
      "outputs": [],
      "source": [
        "indo_gru_inputs= indo_gru_scaler.transform(indo_gru_df)"
      ]
    },
    {
      "cell_type": "code",
      "execution_count": null,
      "metadata": {
        "id": "E6CX6CJ2pO7a"
      },
      "outputs": [],
      "source": [
        "indo_gru_X_test =[]\n",
        "indo_gru_y_test =[]\n",
        "\n",
        "for i in range(60,indo_gru_inputs.shape[0]):\n",
        "    indo_gru_X_test.append(indo_gru_inputs[i-60:i])\n",
        "    indo_gru_y_test.append(indo_gru_inputs[i,0])"
      ]
    },
    {
      "cell_type": "code",
      "execution_count": null,
      "metadata": {
        "id": "F-rZ8uMGpO7b"
      },
      "outputs": [],
      "source": [
        "indo_gru_X_test, indo_gru_y_test = np.array(indo_gru_X_test), np.array(indo_gru_y_test)\n",
        "indo_gru_X_test.shape, indo_gru_y_test.shape"
      ]
    },
    {
      "cell_type": "code",
      "execution_count": null,
      "metadata": {
        "id": "bMR3QcxdpO7c"
      },
      "outputs": [],
      "source": [
        "indo_gru_y_pred= indo_gru_regressior.predict(indo_gru_X_test)"
      ]
    },
    {
      "cell_type": "code",
      "execution_count": null,
      "metadata": {
        "id": "RBEdnO21pO7d"
      },
      "outputs": [],
      "source": [
        "indo_gru_scaler.scale_"
      ]
    },
    {
      "cell_type": "code",
      "execution_count": null,
      "metadata": {
        "id": "4bz4Kti9pO7e"
      },
      "outputs": [],
      "source": [
        "indo_gru_scale=1/1.76189721e-05\n",
        "indo_gru_scale"
      ]
    },
    {
      "cell_type": "code",
      "execution_count": null,
      "metadata": {
        "id": "3xVML-qSpO7e"
      },
      "outputs": [],
      "source": [
        "indo_gru_y_pred= indo_gru_y_pred*indo_gru_scale\n",
        "indo_gru_y_test= indo_gru_y_test*indo_gru_scale"
      ]
    },
    {
      "cell_type": "code",
      "execution_count": null,
      "metadata": {
        "id": "xUq1McgosNly"
      },
      "outputs": [],
      "source": [
        "scores = indo_gru_regressior.evaluate(indo_gru_X_test, indo_gru_y_test, verbose=0)\n",
        "scores"
      ]
    },
    {
      "cell_type": "code",
      "execution_count": null,
      "metadata": {
        "id": "FSiti7w905Se"
      },
      "outputs": [],
      "source": [
        "indo_gru_Rmsle= np.sqrt((np.mean((((np.log(indo_gru_y_pred+1))-(np.log(indo_gru_y_test+1)))**2))))\n",
        "indo_gru_msle=np.mean((((np.log(indo_gru_y_pred+1))-(np.log(indo_gru_y_test+1)))**2))\n",
        "print(indo_gru_Rmsle)\n",
        "print(indo_gru_msle)"
      ]
    },
    {
      "cell_type": "code",
      "execution_count": null,
      "metadata": {
        "id": "h3y7F4qjpO7f"
      },
      "outputs": [],
      "source": [
        "\n",
        "\n",
        "plt.figure(figsize=(10,3.5))\n",
        "plt.plot(indo_gru_y_test, color = 'red', label = 'Real new_case')\n",
        "plt.plot(indo_gru_y_pred, color='green', label = 'prideicted new case GRU')\n",
        "plt.plot(indo_y_pred, color='blue', label = 'prideicted new case LSTM')\n",
        "plt.title('Indonasia new case pridiction(GRU and LSTM Model)')\n",
        "plt.xlabel('Days')\n",
        "plt.ylabel('New cases')\n",
        "plt.legend(fontsize=12)\n",
        "plt.savefig('Indonasia new case pridiction(GRU).jpg')\n",
        "plt.show()"
      ]
    },
    {
      "cell_type": "code",
      "execution_count": null,
      "metadata": {
        "id": "yFP731-mxPwW"
      },
      "outputs": [],
      "source": []
    },
    {
      "cell_type": "code",
      "execution_count": null,
      "metadata": {
        "id": "jYCUhgdvx01u"
      },
      "outputs": [],
      "source": [
        "# philipine  data model LSTM"
      ]
    },
    {
      "cell_type": "code",
      "execution_count": null,
      "metadata": {
        "id": "d8WC4MNqx01w"
      },
      "outputs": [],
      "source": [
        "new_ph_seasons=ph_seasons[['date', 'new_cases','T2M']]"
      ]
    },
    {
      "cell_type": "code",
      "execution_count": null,
      "metadata": {
        "id": "D1_xAqE1x01y"
      },
      "outputs": [],
      "source": [
        "ph_data_training=new_ph_seasons[new_ph_seasons['date']<='2021-12-22'].copy()\n",
        "\n"
      ]
    },
    {
      "cell_type": "code",
      "execution_count": null,
      "metadata": {
        "id": "j4WkgSlux01z"
      },
      "outputs": [],
      "source": [
        "ph_data_testing=new_ph_seasons[new_ph_seasons['date']>='2021-12-22'].copy()"
      ]
    },
    {
      "cell_type": "code",
      "execution_count": null,
      "metadata": {
        "id": "Fisc7I1Px010"
      },
      "outputs": [],
      "source": [
        "ph_training_data=ph_data_training.drop(['date'],axis=1)"
      ]
    },
    {
      "cell_type": "code",
      "execution_count": null,
      "metadata": {
        "id": "YSEAehgVx011"
      },
      "outputs": [],
      "source": [
        "ph_scaler=MinMaxScaler()\n",
        "ph_training_data=ph_scaler.fit_transform(ph_training_data)"
      ]
    },
    {
      "cell_type": "code",
      "execution_count": null,
      "metadata": {
        "id": "PaJAd-k-x013"
      },
      "outputs": [],
      "source": [
        "ph_X_train=[]\n",
        "ph_y_train=[]\n"
      ]
    },
    {
      "cell_type": "code",
      "execution_count": null,
      "metadata": {
        "id": "A1wIqO8Jx014"
      },
      "outputs": [],
      "source": [
        "for i in range(60, ph_training_data.shape[0]):\n",
        "    ph_X_train.append(ph_training_data[i-60:i])\n",
        "    ph_y_train.append(ph_training_data[i,0])\n",
        ""
      ]
    },
    {
      "cell_type": "code",
      "execution_count": null,
      "metadata": {
        "id": "LvFILb7Gx015"
      },
      "outputs": [],
      "source": [
        "ph_X_train,ph_y_train=np.array(ph_X_train), np.array(ph_y_train)"
      ]
    },
    {
      "cell_type": "code",
      "execution_count": null,
      "metadata": {
        "id": "g56MHUmVx017"
      },
      "outputs": [],
      "source": [
        "ph_regressior= Sequential()\n",
        "ph_regressior.add(LSTM(units=50, activation='relu', return_sequences=True, input_shape=(ph_X_train.shape[1],2)))\n",
        "ph_regressior.add(Dropout(0.1))\n",
        "\n",
        "ph_regressior.add(LSTM(units=60, activation='relu', return_sequences=True))\n",
        "ph_regressior.add(Dropout(0.1))\n",
        "\n",
        "ph_regressior.add(LSTM(units=80, activation='relu', return_sequences=True))\n",
        "ph_regressior.add(Dropout(0.1))\n",
        "\n",
        "#regressior.add(LSTM(units=80, activation='relu', return_sequences=True))\n",
        "##regressior.add(Dropout(0.2))\n",
        "\n",
        "ph_regressior.add(LSTM(units=120, activation='relu'))\n",
        "ph_regressior.add(Dropout(0.1))\n",
        "\n",
        "ph_regressior.add(Dense(units=1))\n"
      ]
    },
    {
      "cell_type": "code",
      "execution_count": null,
      "metadata": {
        "id": "PAWDO3OSx018"
      },
      "outputs": [],
      "source": [
        "ph_regressior.compile(optimizer='adam', loss='mean_squared_logarithmic_error')\n"
      ]
    },
    {
      "cell_type": "code",
      "execution_count": null,
      "metadata": {
        "id": "tibBjM8Qx019"
      },
      "outputs": [],
      "source": [
        "ph_regressior.fit(ph_X_train,ph_y_train,epochs=100, batch_size=64)"
      ]
    },
    {
      "cell_type": "code",
      "execution_count": null,
      "metadata": {
        "id": "BXJjBz3zx01_"
      },
      "outputs": [],
      "source": [
        "ph_past_60_days= ph_data_training.tail(60)"
      ]
    },
    {
      "cell_type": "code",
      "execution_count": null,
      "metadata": {
        "id": "Wu8KfFVbx02A"
      },
      "outputs": [],
      "source": [
        "ph_df = ph_past_60_days.append(ph_data_testing, ignore_index=True)\n",
        "ph_df"
      ]
    },
    {
      "cell_type": "code",
      "execution_count": null,
      "metadata": {
        "id": "wlOYdNo5x02A"
      },
      "outputs": [],
      "source": [
        "ph_df= ph_df.drop(['date'],axis=1)"
      ]
    },
    {
      "cell_type": "code",
      "execution_count": null,
      "metadata": {
        "id": "cuSNyg78x02B"
      },
      "outputs": [],
      "source": [
        "ph_inputs= ph_scaler.transform(ph_df)"
      ]
    },
    {
      "cell_type": "code",
      "execution_count": null,
      "metadata": {
        "id": "22biondax02C"
      },
      "outputs": [],
      "source": [
        "ph_X_test =[]\n",
        "ph_y_test =[]\n",
        "\n",
        "for i in range(60,ph_inputs.shape[0]):\n",
        "    ph_X_test.append(ph_inputs[i-60:i])\n",
        "    ph_y_test.append(ph_inputs[i,0])"
      ]
    },
    {
      "cell_type": "code",
      "execution_count": null,
      "metadata": {
        "id": "6fwMOZARx02D"
      },
      "outputs": [],
      "source": [
        "ph_X_test, ph_y_test = np.array(ph_X_test), np.array(ph_y_test)\n",
        "ph_X_test.shape, ph_y_test.shape"
      ]
    },
    {
      "cell_type": "code",
      "execution_count": null,
      "metadata": {
        "id": "WdJ4BBejx02D"
      },
      "outputs": [],
      "source": [
        "ph_y_pred= ph_regressior.predict(ph_X_test)"
      ]
    },
    {
      "cell_type": "code",
      "execution_count": null,
      "metadata": {
        "id": "u4AHSHpmx02E"
      },
      "outputs": [],
      "source": [
        "ph_y_pred, ph_y_test"
      ]
    },
    {
      "cell_type": "code",
      "execution_count": null,
      "metadata": {
        "id": "XYO8TurZx02E"
      },
      "outputs": [],
      "source": [
        "ph_scaler.scale_"
      ]
    },
    {
      "cell_type": "code",
      "execution_count": null,
      "metadata": {
        "id": "AL_hrSTmx02F"
      },
      "outputs": [],
      "source": [
        "ph_scale=1/3.58731525e-05\n",
        "ph_scale"
      ]
    },
    {
      "cell_type": "code",
      "execution_count": null,
      "metadata": {
        "id": "xBlDjG7gx02F"
      },
      "outputs": [],
      "source": [
        "ph_y_pred= ph_y_pred*ph_scale\n",
        "ph_y_test= ph_y_test*ph_scale"
      ]
    },
    {
      "cell_type": "code",
      "execution_count": null,
      "metadata": {
        "id": "lFoJm38u1ZaG"
      },
      "outputs": [],
      "source": [
        "ph_Rmsle= np.sqrt((np.mean((((np.log(ph_y_pred+1))-(np.log(ph_y_test+1)))**2))))\n",
        "ph_msle=np.mean((((np.log(ph_y_pred+1))-(np.log(ph_y_test+1)))**2))\n",
        "print(ph_Rmsle)\n",
        "print(ph_msle)"
      ]
    },
    {
      "cell_type": "code",
      "execution_count": null,
      "metadata": {
        "id": "WxoFpU10x02G"
      },
      "outputs": [],
      "source": [
        "plt.figure(figsize=(8,4))\n",
        "plt.plot(ph_y_test, color = 'red', label = 'Real new_case')\n",
        "plt.plot(ph_y_pred, color='blue', label = 'prideicted new case')\n",
        "plt.title('Philipine new case pridiction(LSTM)')\n",
        "plt.xlabel('Days')\n",
        "plt.ylabel('New cases')\n",
        "plt.legend()\n",
        "plt.savefig('Philipine new case pridiction(Lstm).jpg')\n",
        "plt.show()\n"
      ]
    },
    {
      "cell_type": "code",
      "execution_count": null,
      "metadata": {
        "id": "e79OT6tax02G"
      },
      "outputs": [],
      "source": [
        "#Indonasia GRU mode"
      ]
    },
    {
      "cell_type": "code",
      "execution_count": null,
      "metadata": {
        "id": "tePjM4vLx02G"
      },
      "outputs": [],
      "source": [
        "ph_gru_new_seasons=ph_seasons[['date', 'new_cases','T2M']]"
      ]
    },
    {
      "cell_type": "code",
      "execution_count": null,
      "metadata": {
        "id": "KtpfF73Kx02H"
      },
      "outputs": [],
      "source": [
        "ph_gru_data_training=ph_gru_new_seasons[ph_gru_new_seasons['date']<='2021-12-22'].copy()"
      ]
    },
    {
      "cell_type": "code",
      "execution_count": null,
      "metadata": {
        "id": "qNvdjNhux02H"
      },
      "outputs": [],
      "source": [
        "ph_gru_data_testing=ph_gru_new_seasons[ph_gru_new_seasons['date']>='2021-12-22'].copy()"
      ]
    },
    {
      "cell_type": "code",
      "execution_count": null,
      "metadata": {
        "id": "TBegzswax02I"
      },
      "outputs": [],
      "source": [
        "ph_gru_training_data=ph_gru_data_training.drop(['date'],axis=1)"
      ]
    },
    {
      "cell_type": "code",
      "execution_count": null,
      "metadata": {
        "id": "D6kebk8kx02I"
      },
      "outputs": [],
      "source": [
        "ph_gru_scaler=MinMaxScaler()\n",
        "ph_gru_training_data=ph_gru_scaler.fit_transform(ph_gru_training_data)"
      ]
    },
    {
      "cell_type": "code",
      "execution_count": null,
      "metadata": {
        "id": "l73Zjan8x02I"
      },
      "outputs": [],
      "source": [
        "ph_gru_X_train=[]\n",
        "ph_gru_y_train=[]"
      ]
    },
    {
      "cell_type": "code",
      "execution_count": null,
      "metadata": {
        "id": "ehQpAfqUx02J"
      },
      "outputs": [],
      "source": [
        "for i in range(60, ph_gru_training_data.shape[0]):\n",
        "    ph_gru_X_train.append(ph_gru_training_data[i-60:i])\n",
        "    ph_gru_y_train.append(ph_gru_training_data[i,0])"
      ]
    },
    {
      "cell_type": "code",
      "execution_count": null,
      "metadata": {
        "id": "41Q8_C1Ex02L"
      },
      "outputs": [],
      "source": [
        "ph_gru_X_train,ph_gru_y_train=np.array(ph_gru_X_train), np.array(ph_gru_y_train)"
      ]
    },
    {
      "cell_type": "code",
      "execution_count": null,
      "metadata": {
        "id": "z7ScvYKfx02M"
      },
      "outputs": [],
      "source": [
        "ph_gru_regressior= Sequential()\n",
        "ph_gru_regressior.add(layers.GRU(units=50, activation='relu',return_sequences=True, input_shape=(ph_gru_X_train.shape[1],2)))\n",
        "ph_gru_regressior.add(layers.Dropout(0.1))\n",
        "\n",
        "ph_gru_regressior.add(layers.GRU(units=60, activation='relu', return_sequences=True))\n",
        "ph_gru_regressior.add(layers.Dropout(0.1))\n",
        "\n",
        "ph_gru_regressior.add(layers.GRU(units=80, activation='relu', return_sequences=True))\n",
        "ph_gru_regressior.add(layers.Dropout(0.1))\n",
        "\n",
        "#ph_gru_regressior.add(layers.GRU(units=100, activation='relu', return_sequences=True))\n",
        "#ph_gru_regressior.add(layers.Dropout(0.4))\n",
        "\n",
        "ph_gru_regressior.add(layers.GRU(units=120, activation='relu'))\n",
        "ph_gru_regressior.add(layers.Dropout(0.1))\n",
        "\n",
        "ph_gru_regressior.add(layers.Dense(units=1))\n"
      ]
    },
    {
      "cell_type": "code",
      "execution_count": null,
      "metadata": {
        "id": "2ZSz1kDdx02M"
      },
      "outputs": [],
      "source": [
        "ph_gru_regressior.compile(optimizer='adam', loss='mean_squared_logarithmic_error')"
      ]
    },
    {
      "cell_type": "code",
      "execution_count": null,
      "metadata": {
        "id": "wLSuCm51x02N"
      },
      "outputs": [],
      "source": [
        "ph_gru_regressior.fit(ph_gru_X_train,ph_gru_y_train,epochs=100,batch_size=64)"
      ]
    },
    {
      "cell_type": "code",
      "execution_count": null,
      "metadata": {
        "id": "osFCHX6qx02N"
      },
      "outputs": [],
      "source": [
        "\n",
        "\n",
        "ph_gru_past_60_days= ph_gru_data_training.tail(60)"
      ]
    },
    {
      "cell_type": "code",
      "execution_count": null,
      "metadata": {
        "id": "f_Lfw_kmx02N"
      },
      "outputs": [],
      "source": [
        "ph_gru_df = ph_gru_past_60_days.append(ph_gru_data_testing, ignore_index=True)"
      ]
    },
    {
      "cell_type": "code",
      "execution_count": null,
      "metadata": {
        "id": "789F26ezx02O"
      },
      "outputs": [],
      "source": [
        "ph_gru_df= ph_gru_df.drop(['date'],axis=1)"
      ]
    },
    {
      "cell_type": "code",
      "execution_count": null,
      "metadata": {
        "id": "tD4we2Lcx02O"
      },
      "outputs": [],
      "source": [
        "ph_gru_inputs= ph_gru_scaler.transform(ph_gru_df)"
      ]
    },
    {
      "cell_type": "code",
      "execution_count": null,
      "metadata": {
        "id": "XadVQPQxx02O"
      },
      "outputs": [],
      "source": [
        "ph_gru_X_test =[]\n",
        "ph_gru_y_test =[]\n",
        "#ph_gru_y_test_X_vals = [] #ifty\n",
        "for i in range(60,ph_gru_inputs.shape[0]):\n",
        "    ph_gru_X_test.append(ph_gru_inputs[i-60:i])\n",
        "    ph_gru_y_test.append(ph_gru_inputs[i,0])\n",
        "    #ph_gru_y_test_X_vals.append(ph_gru_inputs[i,1]) #ifty"
      ]
    },
    {
      "cell_type": "code",
      "execution_count": null,
      "metadata": {
        "id": "Yir36-P0x02O"
      },
      "outputs": [],
      "source": [
        "ph_gru_X_test, ph_gru_y_test = np.array(ph_gru_X_test), np.array(ph_gru_y_test)\n",
        "ph_gru_X_test.shape, ph_gru_y_test.shape"
      ]
    },
    {
      "cell_type": "code",
      "execution_count": null,
      "metadata": {
        "id": "el7PhJjRx02P"
      },
      "outputs": [],
      "source": [
        "ph_gru_y_pred= ph_gru_regressior.predict(ph_gru_X_test)"
      ]
    },
    {
      "cell_type": "code",
      "execution_count": null,
      "metadata": {
        "id": "K9E--hX3x02P"
      },
      "outputs": [],
      "source": [
        "ph_gru_scaler.scale_"
      ]
    },
    {
      "cell_type": "code",
      "execution_count": null,
      "metadata": {
        "id": "EDNOyOGdx02P"
      },
      "outputs": [],
      "source": [
        "ph_gru_scale=1/3.58731525e-05\n",
        "ph_gru_scale"
      ]
    },
    {
      "cell_type": "code",
      "execution_count": null,
      "metadata": {
        "id": "JNn-tKsix02P"
      },
      "outputs": [],
      "source": [
        "ph_gru_y_pred= ph_gru_y_pred*ph_gru_scale\n",
        "ph_gru_y_test= ph_gru_y_test*ph_gru_scale"
      ]
    },
    {
      "cell_type": "code",
      "execution_count": null,
      "metadata": {
        "id": "Ci6PyoTJ1sfr"
      },
      "outputs": [],
      "source": [
        "ph_gru_Rmsle= np.sqrt((np.mean((((np.log(ph_gru_y_pred+1))-(np.log(ph_gru_y_test+1)))**2))))\n",
        "ph_gru_msle=np.mean((((np.log(ph_gru_y_pred+1))-(np.log(ph_gru_y_test+1)))**2))\n",
        "print(ph_gru_Rmsle)\n",
        "print(ph_gru_msle)"
      ]
    },
    {
      "cell_type": "code",
      "execution_count": null,
      "metadata": {
        "id": "Sp6R5hLgx02Q"
      },
      "outputs": [],
      "source": [
        "\n",
        "plt.figure(figsize=(10,3.5))\n",
        "plt.plot(ph_gru_y_test, color = 'red', label = 'Real new_case')\n",
        "#plt.plot(ph_gru_y_test_X_vals, ph_gru_y_test, color = 'red', label = 'Real new_case') #ifty\n",
        "plt.plot(ph_gru_y_pred, color='green', label = 'prideicted new case GRU')\n",
        "plt.plot(ph_y_pred, color='blue', label = 'prideicted new case LSTM')\n",
        "#plt.plot(ph_gru_y_test_X_vals, ph_gru_y_pred, color='blue', label = 'prideicted new case') #ifty\n",
        "plt.title('Philipine new case pridiction(GRU and LSTM Model)')\n",
        "plt.xlabel('Days')\n",
        "plt.ylabel('New cases')\n",
        "plt.legend(fontsize=12)\n",
        "plt.savefig('Philipine new case pridiction(GRU).jpg')\n",
        "plt.show()"
      ]
    },
    {
      "cell_type": "code",
      "execution_count": null,
      "metadata": {
        "id": "-MrNjfju5rl1"
      },
      "outputs": [],
      "source": []
    },
    {
      "cell_type": "code",
      "execution_count": null,
      "metadata": {
        "id": "rso1Gs4x6iyA"
      },
      "outputs": [],
      "source": []
    },
    {
      "cell_type": "code",
      "execution_count": null,
      "metadata": {
        "id": "mhPivQIU6jUG"
      },
      "outputs": [],
      "source": [
        "# philipine  data model LSTM"
      ]
    },
    {
      "cell_type": "code",
      "execution_count": null,
      "metadata": {
        "id": "P7zHr6Bf6jUG"
      },
      "outputs": [],
      "source": [
        "new_vt_seasons=vt_seasons[['date', 'new_cases','T2M']]"
      ]
    },
    {
      "cell_type": "code",
      "execution_count": null,
      "metadata": {
        "id": "tr7Q8ss-6jUG"
      },
      "outputs": [],
      "source": [
        "vt_data_training=new_vt_seasons[new_vt_seasons['date']<='2021-12-22'].copy()\n",
        "\n"
      ]
    },
    {
      "cell_type": "code",
      "execution_count": null,
      "metadata": {
        "id": "o7tuOa546jUH"
      },
      "outputs": [],
      "source": [
        "vt_data_testing=new_vt_seasons[new_vt_seasons['date']>='2021-12-22'].copy()"
      ]
    },
    {
      "cell_type": "code",
      "execution_count": null,
      "metadata": {
        "id": "pBmJYPMY6jUH"
      },
      "outputs": [],
      "source": [
        "vt_training_data=vt_data_training.drop(['date'],axis=1)"
      ]
    },
    {
      "cell_type": "code",
      "execution_count": null,
      "metadata": {
        "id": "cEzzFnvs6jUH"
      },
      "outputs": [],
      "source": [
        "vt_scaler=MinMaxScaler()\n",
        "vt_training_data=vt_scaler.fit_transform(vt_training_data)"
      ]
    },
    {
      "cell_type": "code",
      "execution_count": null,
      "metadata": {
        "id": "IySfsK_R6jUH"
      },
      "outputs": [],
      "source": [
        "vt_X_train=[]\n",
        "vt_y_train=[]\n"
      ]
    },
    {
      "cell_type": "code",
      "execution_count": null,
      "metadata": {
        "id": "dkgr_tWv6jUI"
      },
      "outputs": [],
      "source": [
        "for i in range(60, vt_training_data.shape[0]):\n",
        "    vt_X_train.append(vt_training_data[i-60:i])\n",
        "    vt_y_train.append(vt_training_data[i,0])\n",
        ""
      ]
    },
    {
      "cell_type": "code",
      "execution_count": null,
      "metadata": {
        "id": "z7tpxWGJ6jUI"
      },
      "outputs": [],
      "source": [
        "vt_X_train,vt_y_train=np.array(vt_X_train), np.array(vt_y_train)"
      ]
    },
    {
      "cell_type": "code",
      "execution_count": null,
      "metadata": {
        "id": "7FNJIi8Y6jUI"
      },
      "outputs": [],
      "source": [
        "vt_regressior= Sequential()\n",
        "vt_regressior.add(LSTM(units=50, activation='relu', return_sequences=True, input_shape=(vt_X_train.shape[1],2)))\n",
        "vt_regressior.add(Dropout(0.1))\n",
        "\n",
        "vt_regressior.add(LSTM(units=60, activation='relu', return_sequences=True))\n",
        "vt_regressior.add(Dropout(0.1))\n",
        "\n",
        "vt_regressior.add(LSTM(units=80, activation='relu', return_sequences=True))\n",
        "vt_regressior.add(Dropout(0.1))\n",
        "\n",
        "#regressior.add(LSTM(units=100, activation='relu', return_sequences=True))\n",
        "#regressior.add(Dropout(0.2))\n",
        "\n",
        "vt_regressior.add(LSTM(units=100, activation='relu'))\n",
        "vt_regressior.add(Dropout(0.1))\n",
        "\n",
        "vt_regressior.add(Dense(units=1))\n"
      ]
    },
    {
      "cell_type": "code",
      "execution_count": null,
      "metadata": {
        "id": "W8Qev_Gs6jUI"
      },
      "outputs": [],
      "source": [
        "vt_regressior.compile(optimizer='adam', loss='mean_squared_logarithmic_error')\n"
      ]
    },
    {
      "cell_type": "code",
      "execution_count": null,
      "metadata": {
        "id": "4muYiPes6jUI"
      },
      "outputs": [],
      "source": [
        "vt_regressior.fit(vt_X_train,vt_y_train,epochs=80, batch_size=32)"
      ]
    },
    {
      "cell_type": "code",
      "execution_count": null,
      "metadata": {
        "id": "8ncQ11Vg6jUJ"
      },
      "outputs": [],
      "source": [
        "vt_past_60_days= vt_data_training.tail(60)"
      ]
    },
    {
      "cell_type": "code",
      "execution_count": null,
      "metadata": {
        "id": "iI2ySrhZ6jUJ"
      },
      "outputs": [],
      "source": [
        "vt_df = vt_past_60_days.append(vt_data_testing, ignore_index=True)\n",
        "vt_df"
      ]
    },
    {
      "cell_type": "code",
      "execution_count": null,
      "metadata": {
        "id": "QqSKM1MjuPAe"
      },
      "outputs": [],
      "source": [
        "print(vt_df.dtypes)"
      ]
    },
    {
      "cell_type": "code",
      "execution_count": null,
      "metadata": {
        "id": "SMKsIwXt6jUJ"
      },
      "outputs": [],
      "source": [
        "#.......................\n",
        "vt_df= vt_df.drop(['date'],axis=1)"
      ]
    },
    {
      "cell_type": "code",
      "execution_count": null,
      "metadata": {
        "id": "zUYWuoZjuaNq"
      },
      "outputs": [],
      "source": [
        "print(vt_df)"
      ]
    },
    {
      "cell_type": "code",
      "execution_count": null,
      "metadata": {
        "id": "6ENwSn5u6jUK"
      },
      "outputs": [],
      "source": [
        "vt_inputs= vt_scaler.transform(vt_df)"
      ]
    },
    {
      "cell_type": "code",
      "execution_count": null,
      "metadata": {
        "id": "LbaWp8AW6jUK"
      },
      "outputs": [],
      "source": [
        "vt_X_test =[]\n",
        "vt_y_test =[]\n",
        "\n",
        "for i in range(60,vt_inputs.shape[0]):\n",
        "    vt_X_test.append(vt_inputs[i-60:i])\n",
        "    vt_y_test.append(vt_inputs[i,0])"
      ]
    },
    {
      "cell_type": "code",
      "execution_count": null,
      "metadata": {
        "id": "PnlBvfSs6jUK"
      },
      "outputs": [],
      "source": [
        "vt_X_test, vt_y_test = np.array(vt_X_test), np.array(vt_y_test)\n",
        "vt_X_test.shape, vt_y_test.shape"
      ]
    },
    {
      "cell_type": "code",
      "execution_count": null,
      "metadata": {
        "id": "Pc_VcUoa6jUK"
      },
      "outputs": [],
      "source": [
        "vt_y_pred= vt_regressior.predict(vt_X_test)"
      ]
    },
    {
      "cell_type": "code",
      "execution_count": null,
      "metadata": {
        "id": "oPuLQZfz6jUL"
      },
      "outputs": [],
      "source": [
        "vt_y_pred, vt_y_test"
      ]
    },
    {
      "cell_type": "code",
      "execution_count": null,
      "metadata": {
        "id": "cjJP2eh56jUL"
      },
      "outputs": [],
      "source": [
        "vt_scaler.scale_"
      ]
    },
    {
      "cell_type": "code",
      "execution_count": null,
      "metadata": {
        "id": "gH3DIpt16jUL"
      },
      "outputs": [],
      "source": [
        "vt_scale=1/2.55545334e-05\n",
        "vt_scale"
      ]
    },
    {
      "cell_type": "code",
      "execution_count": null,
      "metadata": {
        "id": "_LN6xMyT6jUL"
      },
      "outputs": [],
      "source": [
        "vt_y_pred= vt_y_pred*vt_scale\n",
        "vt_y_test= vt_y_test*vt_scale"
      ]
    },
    {
      "cell_type": "code",
      "execution_count": null,
      "metadata": {
        "id": "X_n1UW341-kG"
      },
      "outputs": [],
      "source": [
        "vt_Rmsle= np.sqrt((np.mean((((np.log(vt_y_pred+1))-(np.log(vt_y_test+1)))**2))))\n",
        "vt_msle=np.mean((((np.log(vt_y_pred+1))-(np.log(vt_y_test+1)))**2))\n",
        "print(vt_Rmsle)\n",
        "print(vt_msle)"
      ]
    },
    {
      "cell_type": "code",
      "execution_count": null,
      "metadata": {
        "id": "5U5ai3yr6jUL"
      },
      "outputs": [],
      "source": [
        "plt.figure(figsize=(8,4))\n",
        "plt.plot(vt_y_test, color = 'red', label = 'Real new_case')\n",
        "plt.plot(vt_y_pred, color='blue', label = 'prideicted new case')\n",
        "plt.title('Vietnam new case pridiction')\n",
        "plt.xlabel('Days')\n",
        "plt.ylabel('New cases')\n",
        "plt.legend()\n",
        "plt.savefig('Vietnam new case pridiction(LSTM).jpg')\n",
        "plt.show()\n"
      ]
    },
    {
      "cell_type": "code",
      "execution_count": null,
      "metadata": {
        "id": "UEagpGeY6jUM"
      },
      "outputs": [],
      "source": [
        "#Indonasia GRU mode"
      ]
    },
    {
      "cell_type": "code",
      "execution_count": null,
      "metadata": {
        "id": "6m0qG0Zs6jUM"
      },
      "outputs": [],
      "source": [
        "vt_gru_new_seasons=vt_seasons[['date', 'new_cases','T2M']]"
      ]
    },
    {
      "cell_type": "code",
      "execution_count": null,
      "metadata": {
        "id": "uo_ttS436jUM"
      },
      "outputs": [],
      "source": [
        "vt_gru_data_training=vt_gru_new_seasons[vt_gru_new_seasons['date']<='2021-12-22'].copy()"
      ]
    },
    {
      "cell_type": "code",
      "execution_count": null,
      "metadata": {
        "id": "mDhyYROB6jUN"
      },
      "outputs": [],
      "source": [
        "vt_gru_data_testing=vt_gru_new_seasons[vt_gru_new_seasons['date']>='2021-12-22'].copy()"
      ]
    },
    {
      "cell_type": "code",
      "execution_count": null,
      "metadata": {
        "id": "3fer0o6b6jUN"
      },
      "outputs": [],
      "source": [
        "vt_gru_training_data=vt_gru_data_training.drop(['date'],axis=1)"
      ]
    },
    {
      "cell_type": "code",
      "execution_count": null,
      "metadata": {
        "id": "j9TEbie86jUN"
      },
      "outputs": [],
      "source": [
        "vt_gru_scaler=MinMaxScaler()\n",
        "vt_gru_training_data=vt_gru_scaler.fit_transform(vt_gru_training_data)"
      ]
    },
    {
      "cell_type": "code",
      "execution_count": null,
      "metadata": {
        "id": "iWDDov5l6jUN"
      },
      "outputs": [],
      "source": [
        "vt_gru_X_train=[]\n",
        "vt_gru_y_train=[]"
      ]
    },
    {
      "cell_type": "code",
      "execution_count": null,
      "metadata": {
        "id": "i1_N3zsq6jUN"
      },
      "outputs": [],
      "source": [
        "for i in range(60, vt_gru_training_data.shape[0]):\n",
        "    vt_gru_X_train.append(vt_gru_training_data[i-60:i])\n",
        "    vt_gru_y_train.append(vt_gru_training_data[i,0])"
      ]
    },
    {
      "cell_type": "code",
      "execution_count": null,
      "metadata": {
        "id": "1eDQDM6Q6jUO"
      },
      "outputs": [],
      "source": [
        "vt_gru_X_train,vt_gru_y_train=np.array(vt_gru_X_train), np.array(vt_gru_y_train)"
      ]
    },
    {
      "cell_type": "code",
      "execution_count": null,
      "metadata": {
        "id": "PB-ySr7-6jUO"
      },
      "outputs": [],
      "source": [
        "vt_gru_regressior= Sequential()\n",
        "vt_gru_regressior.add(layers.GRU(units=50, activation='relu', return_sequences=True, input_shape=(vt_gru_X_train.shape[1],2)))\n",
        "vt_gru_regressior.add(layers.Dropout(0.1))\n",
        "\n",
        "vt_gru_regressior.add(layers.GRU(units=60, activation='relu', return_sequences=True))\n",
        "vt_gru_regressior.add(layers.Dropout(0.1))\n",
        "\n",
        "vt_gru_regressior.add(layers.GRU(units=80, activation='relu', return_sequences=True))\n",
        "vt_gru_regressior.add(layers.Dropout(0.1))\n",
        "\n",
        "#gru_regressior.add(layers.GRU(units=100, activation='relu', return_sequences=True))\n",
        "#gru_regressior.add(layers.Dropout(0.2))\n",
        "\n",
        "vt_gru_regressior.add(layers.GRU(units=120, activation='relu'))\n",
        "vt_gru_regressior.add(layers.Dropout(0.1))\n",
        "\n",
        "vt_gru_regressior.add(layers.Dense(units=1))\n"
      ]
    },
    {
      "cell_type": "code",
      "execution_count": null,
      "metadata": {
        "id": "TDhcDqmy6jUO"
      },
      "outputs": [],
      "source": [
        "vt_gru_regressior.compile(optimizer='adam', loss='mean_squared_logarithmic_error')"
      ]
    },
    {
      "cell_type": "code",
      "execution_count": null,
      "metadata": {
        "id": "sG-aR3PM6jUO"
      },
      "outputs": [],
      "source": [
        "vt_gru_regressior.fit(vt_gru_X_train,vt_gru_y_train,epochs=100, batch_size=32)"
      ]
    },
    {
      "cell_type": "code",
      "execution_count": null,
      "metadata": {
        "id": "omY86OCm6jUO"
      },
      "outputs": [],
      "source": [
        "vt_gru_past_60_days= vt_gru_data_training.tail(60)"
      ]
    },
    {
      "cell_type": "code",
      "execution_count": null,
      "metadata": {
        "id": "KlleokLM6jUO"
      },
      "outputs": [],
      "source": [
        "vt_gru_df = vt_gru_past_60_days.append(vt_gru_data_testing, ignore_index=True)"
      ]
    },
    {
      "cell_type": "code",
      "execution_count": null,
      "metadata": {
        "id": "uklZuuZU6jUP"
      },
      "outputs": [],
      "source": [
        "vt_gru_df= vt_gru_df.drop(['date'],axis=1)"
      ]
    },
    {
      "cell_type": "code",
      "execution_count": null,
      "metadata": {
        "id": "T3P8Oio06jUP"
      },
      "outputs": [],
      "source": [
        "vt_gru_inputs= vt_gru_scaler.transform(vt_gru_df)"
      ]
    },
    {
      "cell_type": "code",
      "execution_count": null,
      "metadata": {
        "id": "FFikxtj96jUP"
      },
      "outputs": [],
      "source": [
        "vt_gru_X_test =[]\n",
        "vt_gru_y_test =[]\n",
        "\n",
        "for i in range(60,vt_gru_inputs.shape[0]):\n",
        "    vt_gru_X_test.append(vt_gru_inputs[i-60:i])\n",
        "    vt_gru_y_test.append(vt_gru_inputs[i,0])"
      ]
    },
    {
      "cell_type": "code",
      "execution_count": null,
      "metadata": {
        "id": "0d3GzgCW6jUP"
      },
      "outputs": [],
      "source": [
        "vt_gru_X_test, vt_gru_y_test = np.array(vt_gru_X_test), np.array(vt_gru_y_test)\n",
        "vt_gru_X_test.shape, vt_gru_y_test.shape"
      ]
    },
    {
      "cell_type": "code",
      "execution_count": null,
      "metadata": {
        "id": "cTVIwN_c6jUQ"
      },
      "outputs": [],
      "source": [
        "vt_gru_y_pred= vt_gru_regressior.predict(vt_gru_X_test)"
      ]
    },
    {
      "cell_type": "code",
      "execution_count": null,
      "metadata": {
        "id": "-8EIY9XT6jUQ"
      },
      "outputs": [],
      "source": [
        "vt_gru_scaler.scale_"
      ]
    },
    {
      "cell_type": "code",
      "execution_count": null,
      "metadata": {
        "id": "fJJ4_dQa6jUQ"
      },
      "outputs": [],
      "source": [
        "vt_gru_scale=1/2.55545334e-05\n",
        "vt_gru_scale"
      ]
    },
    {
      "cell_type": "code",
      "execution_count": null,
      "metadata": {
        "id": "64_vesqr6jUR"
      },
      "outputs": [],
      "source": [
        "vt_gru_y_pred= vt_gru_y_pred*vt_gru_scale\n",
        "vt_gru_y_test= vt_gru_y_test*vt_gru_scale"
      ]
    },
    {
      "cell_type": "code",
      "execution_count": null,
      "metadata": {
        "id": "R8EJvLi82Y8B"
      },
      "outputs": [],
      "source": [
        "vt_gru_Rmsle= np.sqrt((np.mean((((np.log(vt_gru_y_pred+1))-(np.log(vt_gru_y_test+1)))**2))))\n",
        "vt_gru_msle=np.mean((((np.log(vt_gru_y_pred+1))-(np.log(vt_gru_y_test+1)))**2))\n",
        "print(vt_gru_Rmsle)\n",
        "print(vt_gru_msle)"
      ]
    },
    {
      "cell_type": "code",
      "execution_count": null,
      "metadata": {
        "id": "JrMDxL6g6jUR"
      },
      "outputs": [],
      "source": [
        "\n",
        "plt.figure(figsize=(10,3.5))\n",
        "plt.plot(vt_gru_y_test, color = 'red', label = 'Real new_case')\n",
        "plt.plot(vt_gru_y_pred, color='green', label = 'prideicted new case GRU')\n",
        "plt.plot(vt_y_pred, color='blue', label = 'prideicted new case LSTM')\n",
        "plt.title('Vietnam new case pridiction(GRU and LSTM Model)')\n",
        "plt.xlabel('Days')\n",
        "plt.ylabel('New cases')\n",
        "plt.legend(fontsize=12)\n",
        "plt.savefig('Vietnam new case pridiction(GRU).jpg')\n",
        "plt.show()"
      ]
    },
    {
      "cell_type": "code",
      "execution_count": null,
      "metadata": {
        "id": "vNnvzmF9Cgcs"
      },
      "outputs": [],
      "source": [
        "#kk=bd_seasons[['date', 'new_cases','T2M']]"
      ]
    },
    {
      "cell_type": "code",
      "execution_count": null,
      "metadata": {
        "id": "rqCX55Z_UQpS"
      },
      "outputs": [],
      "source": [
        "'''xt=kk[['T2M',]]\n",
        "yt=kk['new_cases']'''"
      ]
    },
    {
      "cell_type": "code",
      "execution_count": null,
      "metadata": {
        "id": "CHN1zuY_Upoc"
      },
      "outputs": [],
      "source": [
        "'''from sklearn.model_selection import train_test_split\n",
        "X_train,X_test,y_train,y_test=train_test_split(xt,yt,test_size=0.2)'''"
      ]
    },
    {
      "cell_type": "code",
      "execution_count": null,
      "metadata": {
        "id": "TUA9mB4XVWLt"
      },
      "outputs": [],
      "source": [
        "'''X_train'''\n"
      ]
    },
    {
      "cell_type": "code",
      "execution_count": null,
      "metadata": {
        "id": "eaUrCquFWB5L"
      },
      "outputs": [],
      "source": [
        "'''from sklearn.linear_model import LinearRegression'''"
      ]
    },
    {
      "cell_type": "code",
      "execution_count": null,
      "metadata": {
        "id": "7_AMpd8bX6Ua"
      },
      "outputs": [],
      "source": [
        "'''rggg=Sequential()\n",
        "rggg.compile(optimizer='adam', loss='mean_squared_logarithmic_error')\n",
        "\n",
        "rggg.fit(X_train,y_train)'''"
      ]
    },
    {
      "cell_type": "code",
      "execution_count": null,
      "metadata": {
        "id": "WfJRSqC5YUug"
      },
      "outputs": [],
      "source": [
        "'''rggg.predict(X_test)'''"
      ]
    },
    {
      "cell_type": "code",
      "execution_count": null,
      "metadata": {
        "id": "UneIxLPLYnmd"
      },
      "outputs": [],
      "source": [
        "#y_test"
      ]
    },
    {
      "cell_type": "code",
      "execution_count": null,
      "metadata": {
        "id": "YUKA5VyuYybK"
      },
      "outputs": [],
      "source": [
        "'''rggg.evaluate(X_test,y_test)'''"
      ]
    },
    {
      "cell_type": "code",
      "execution_count": null,
      "metadata": {
        "id": "3pEQnF1GZjU_"
      },
      "outputs": [],
      "source": [
        "'''xx=input('entewr temp')\n",
        "\n",
        "array = np.array(xx)\n",
        "fvalu=array.astype(np.float)\n",
        "fvalu_2D= ([[fvalu]])\n",
        "\n",
        "my_prediction= rggg.predict(fvalu_2D)\n",
        "\n",
        "infection= np.array(my_prediction)\n",
        "infection=infection.item()\n",
        "\n",
        "print('For',xx,'temparature infection is',infection,'can be ' )'''"
      ]
    },
    {
      "cell_type": "code",
      "execution_count": null,
      "metadata": {
        "id": "FqZ4-7tbhonW"
      },
      "outputs": [],
      "source": []
    }
  ],
  "metadata": {
    "colab": {
      "provenance": [],
      "private_outputs": true
    },
    "gpuClass": "standard",
    "kernelspec": {
      "display_name": "Python 3",
      "name": "python3"
    },
    "language_info": {
      "name": "python"
    }
  },
  "nbformat": 4,
  "nbformat_minor": 0
}